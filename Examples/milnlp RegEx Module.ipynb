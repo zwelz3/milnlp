{
 "cells": [
  {
   "cell_type": "code",
   "execution_count": 1,
   "metadata": {},
   "outputs": [],
   "source": [
    "# Note\n",
    "# The section headers are off, because the breadability.Article<DOM> is killing off html code for some reason."
   ]
  },
  {
   "cell_type": "code",
   "execution_count": 2,
   "metadata": {},
   "outputs": [
    {
     "name": "stdout",
     "output_type": "stream",
     "text": [
      "[nltk_data] Downloading package stopwords to\n",
      "[nltk_data]     C:\\Users\\zwelz3\\AppData\\Roaming\\nltk_data...\n",
      "[nltk_data]   Package stopwords is already up-to-date!\n"
     ]
    }
   ],
   "source": [
    "import os\n",
    "\n",
    "from sumyplus.parsers.html import HtmlParser\n",
    "from sumyplus.collection.collection import create_html\n",
    "from sumyplus.collection.utils.filesystem import get_path\n",
    "\n",
    "from milnlp.regex.matching import MatchBook\n",
    "from milnlp.regex.patterns import UnclassPbFilters\n",
    "from milnlp.tokenizers import Tokenizer"
   ]
  },
  {
   "cell_type": "code",
   "execution_count": 3,
   "metadata": {},
   "outputs": [
    {
     "name": "stdout",
     "output_type": "stream",
     "text": [
      "Using default NLTK tokenizer not english. Custom language tokenizers not available.\n",
      "C:\\Users\\zwelz3\\Desktop\\Custom Key Phrase Extraction\\Air Force Research Development Test and Evaluation Vol IIIa FY19.pdf\n"
     ]
    }
   ],
   "source": [
    "LANGUAGE = \"english\"\n",
    "token = Tokenizer(LANGUAGE)  # Replace with mil tokenizer\n",
    "\n",
    "basepath = os.path.abspath(r\"C:\\Users\\zwelz3\\Desktop\\Custom Key Phrase Extraction\")\n",
    "filepath = r\"Air Force Research Development Test and Evaluation Vol IIIa FY19.pdf\"\n",
    "\n",
    "fullpath = get_path(basepath, filepath)\n",
    "print(fullpath)"
   ]
  },
  {
   "cell_type": "code",
   "execution_count": 4,
   "metadata": {},
   "outputs": [
    {
     "name": "stdout",
     "output_type": "stream",
     "text": [
      "\n",
      "R-2 RDT&E Budget Item Justification\n",
      "58 \t - EXHIBIT_FILTER\n",
      "122 \t -- ACTIVITY_FILTER\n",
      "250 \t -- PROGRAM_FILTER\n",
      "433 \t --- MDBIJ_CHUNK_FILTER\n",
      "3646 \t - EXHIBIT_FILTER\n",
      "3710 \t -- ACTIVITY_FILTER\n",
      "3838 \t -- PROGRAM_FILTER\n",
      "4613 \t --- APP_CHUNK_FILTER\n",
      "5668 \t - EXHIBIT_FILTER\n",
      "5732 \t -- ACTIVITY_FILTER\n",
      "5860 \t -- PROGRAM_FILTER\n",
      "5956 \t --- APP_CHUNK_FILTER\n",
      "7983 \t - EXHIBIT_FILTER\n",
      "8047 \t -- ACTIVITY_FILTER\n",
      "8175 \t -- PROGRAM_FILTER\n",
      "8271 \t --- APP_CHUNK_FILTER\n",
      "9003 \t --- OPFS_CHUNK_FILTER\n",
      "10127 \t - EXHIBIT_FILTER\n",
      "10191 \t -- ACTIVITY_FILTER\n",
      "10319 \t -- PROGRAM_FILTER\n",
      "\n",
      "R-3 RDT&E Project Cost Analysis\n",
      "10716 \t - EXHIBIT_FILTER\n",
      "10806 \t -- PROGRAM_FILTER\n",
      "11227 \t - EXHIBIT_FILTER\n",
      "11317 \t -- PROGRAM_FILTER\n",
      "\n",
      "R-4 RDT&E Schedule Profile\n",
      "11650 \t - EXHIBIT_FILTER\n",
      "11735 \t -- PROGRAM_FILTER\n",
      "12333 \t -- PROGRAM_FILTER\n"
     ]
    }
   ],
   "source": [
    "html_file = create_html(fullpath, flags='-f 233 -l 242 -i -s -c -noframes')\n",
    "parser = HtmlParser.from_file(html_file, None, token)\n",
    "\n",
    "text_blob = ''\n",
    "for sentence in parser.document.sentences:\n",
    "    text_blob = ' '.join([text_blob, sentence._text])\n",
    "    \n",
    "filters = UnclassPbFilters()\n",
    "match_book = MatchBook(text_blob, filters)\n",
    "# could add more filters here\n",
    "match_book.apply_filters()  # internally calls match_book.sort_position_map()"
   ]
  },
  {
   "cell_type": "code",
   "execution_count": 5,
   "metadata": {},
   "outputs": [
    {
     "data": {
      "text/plain": [
       "[{'Mission Description and Budget Item Justification': \" Air Force Integrated Personnel and Pay System (AFIPPS) will be a web-enabled, Enterprise Resource Planning (ERP) solution that will integrate existing personnel and pay processes into one self-service system. The Department of the Air Force (DAF) plans to accomplish this goal by modernizing existing technology, resulting in a secure and authoritative data environment that improves accuracy, strengthens decision making and reduces processing time and costs. AFIPPS supports effective military personnel management and development throughout the lifecycle of all military members, by providing an accurate and single authoritative source of personnel data. Active (RegAF), National Guard (ANG),and Reserve (AFRes) components will integrate personnel and pay functionality; streamline and improve automated support to the mobilization and deployment processes; and implement standard data that reflects the core requirements of the Combatant Commands, the Department of the Air Force, the Office of the Secretary of Defense and other federal agencies. Congress, the Department of Defense (DoD), and other federal agencies rely on accurate AF Human Resources (HR) data to make key decisions on how the US military is organized, operated, maintained, and funded. The AFIPPS program will ensure accurate and timely delivery of pay, entitlements, allowances, and benefits information is provided for the Total Force (Active Duty, Guard, and Reserve). AFIPPS represents the AF commitment to modernize business practices and provide enhanced support to service members and their families by integrating personnel and pay systems. AFIPPS will eliminate AF reliance on the end-of-life/unsustainable Defense Finance and Accounting (DFAS) Defense Joint Military Pay System (DJMS) for payroll processing and will ensure continued/improved auditability of service member pay. The AFIPPS approach follows the DoD principle of pursuing enterprise solutions, not enterprise systems. Efforts are underway to establish DoD-level enterprise governance, ensure common standards, and create shared services while pursuing a distinctive approach appropriate for the AF. AFIPPS's customers include approximately 510,000 AF service members across all components (RegAF, ANG, and AFRes) including thousands of military leaders of different ranks, specialties, and career fields who are responsible for the conduct of AF operations that rely on these services to ensure service members with the appropriate skill sets are deployed where needed at home and on the battlefield. Congress, the rest of the Department of Defense (DoD), and other federal agencies all rely on accurate AF Human Resources (HR) data to make key decisions that affect how the US military is organized, funded, deployed, and maintained. This program element may include necessary civilian pay expenses required to manage, execute, and deliver integrated personnel and pay capability. The use of such program funds would be in addition to the civilian pay expenses budgeted in program elements 0605826F, 0605827F, 0605828F, 0605829F, 0605830F, 0605831F, PE 0605018F: AF Integrated Personnel and Pay System \",\n",
       "  'Accomplishments/Planned Programs': ' ($ in Millions) Title: Air Force Integrated Personnel and Pay System (AFIPPS) - Product Development Description: Acquire and develop the activities that support the acquisition of a personnel/pay capability for USAF personnel across all components (i.e., RegAF, ANG, and AFRes). - Award contract to develop pay capabilities and integrate into existing USAF personnel system - Prepare contract documentation to support AFIPPS strategy and Acquisition ATP approval - Continue acquisition planning, reporting, and the execution of AFIPPS activities and follow-on activities - Continue AF information technology efforts (e.g., Common Computing Environment, FIAR/FISCAM audit support, etc.) to ensure AFIPPS is fully integrated into the AF & DoD enterprise networks, databases, and - Build and maintain the required AFIPPS computing environments, e.g. development, test environment - Purchase initial increment of COTS S/W licenses to support development activities PE 0605018F: AF Integrated Personnel and Pay System \\n ($ in Millions) - Continue risk reduction activities to support decision-making - Continue to design and implement enterprise architecture for pay - Continue EBS training contract - Perform change management and other integration activities - Continue to use PASS/ETASS contracted personnel and FFRDC resources to support implementation of the program FY 2019 Base Plans: - Will determine and initiate system interface modifications required to integrate pay capability into AFIPPS - Will acquire Oracle Subject Matter Expertise to advise programs office on COTS product implementation - Will continue contract to develop pay capabilities and integrate into existing USAF personnel system (first full - Will purchase COTS S/W licenses to support development activities - Will maintain contract documentation to support AFIPPS strategy and Full Deployment ATP approval - Will continue acquisition planning, reporting, and the execution of AFIPPS and follow-on activities - Will continue AF information technology efforts (e.g., Common Computing Environment, FIAR/FISCAM audit ensure AFIPPS is fully integrated into the AF & DoD enterprise networks, databases, and information systems - Will maintain the required AFIPPS computing environments, e.g. development, test environment - Will continue risk reduction activities to support decision-making - Will continue to design and implement enterprise architecture for pay - Will continue to perform change management and other integration activities - Will complete EBS training contract - Will continue to use PASS/ETASS contracted personnel and FFRDC resources to support implementation of the program FY 2019 OCO Plans: N/A FY 2018 to FY 2019 Increase/Decrease Statement: Funding increase is due to the prime development contract, system interface, integration, and modification efforts, and Oracle Subject Matter Expert Support cost requirement. Title: AFIPPS - Test and Evaluation PE 0605018F: AF Integrated Personnel and Pay System \\n ($ in Millions) Description: Government integrated test and evaluation activities. - Refine Test and Evaluation Master Plan (TEMP) and prepare test plans - Begin Cyber Vulnerability Assessments to evaluate current/future AFIPPS system environments FY 2019 Base Plans: - Will continue refining Test and Evaluation Master Plan (TEMP) and preparing test plans - Will begin AFIPPS Integrated Contractor and Development Test activities - Will continue Cyber Vulnerability Assessments to evaluate current/future AFIPPS system environments FY 2019 OCO Plans: None FY 2018 to FY 2019 Increase/Decrease Statement: Funding increase is due to Inflation adjustment Accomplishments/Planned Programs Subtotals',\n",
       "  'Other Program Funding Summary': \" ($ in Millions) AFIPPS acquisition strategy focuses on expanding the fielded AF personnel system (MilPDS) by integrating a pay capability. MilPDS is implemented using the commercial Oracle ERP E-Business Suite (EBS). The AFIPPS strategy will be to configure/develop the pay portion of EBS, ensure the system is fully integrated, and deployed. The Government will award a contract for the pay system development, test, and deployment. The development activities will be fully coordinated and integrated with the on-going operation and sustainment of MilPDS. Air Force Program Executive Officer (PEO) for Business and Enterprise Systems (AFPEO BES) is the PEO for AFIPPS. Air Force Life Cycle Management Center (AFLCMC) is the Contracting Authority for the AFIPPS Program and provides Contracts, Legal, and Comptroller support. The Office of the Under Secretary of Defense for Acquisition, Technology, and Logistics [OUSD(AT&L)] has delegated the program's Milestone Decision Authority (MDA) to the Service Acquisition Executive (SAE) PE 0605018F: AF Integrated Personnel and Pay System \"}]"
      ]
     },
     "execution_count": 5,
     "metadata": {},
     "output_type": "execute_result"
    }
   ],
   "source": [
    "match_book.text"
   ]
  },
  {
   "cell_type": "code",
   "execution_count": null,
   "metadata": {},
   "outputs": [],
   "source": []
  }
 ],
 "metadata": {
  "kernelspec": {
   "display_name": "Python [conda env:ecct]",
   "language": "python",
   "name": "conda-env-ecct-py"
  },
  "language_info": {
   "codemirror_mode": {
    "name": "ipython",
    "version": 3
   },
   "file_extension": ".py",
   "mimetype": "text/x-python",
   "name": "python",
   "nbconvert_exporter": "python",
   "pygments_lexer": "ipython3",
   "version": "3.6.6"
  }
 },
 "nbformat": 4,
 "nbformat_minor": 2
}
