{
 "cells": [
  {
   "cell_type": "code",
   "execution_count": 1,
   "metadata": {},
   "outputs": [
    {
     "name": "stdout",
     "output_type": "stream",
     "text": [
      "Using default NLTK tokenizer not english. Custom language tokenizers not available.\n"
     ]
    }
   ],
   "source": [
    "from sumy.nlp.stemmers import Stemmer\n",
    "from sumy.utils import get_stop_words\n",
    "from sumy.summarizers.lex_rank import LexRankSummarizer as Summarizer  # use this summarizer for naive metadata summary\n",
    "#\n",
    "from milnlp.tokenizers import Tokenizer\n",
    "from milnlp.collection.collection import Collection\n",
    "\n",
    "LANGUAGE = \"english\"\n",
    "stemmer = Stemmer(LANGUAGE)\n",
    "summarizer = Summarizer(stemmer)\n",
    "summarizer.stop_words = get_stop_words(LANGUAGE)\n",
    "token = Tokenizer(LANGUAGE)\n",
    "#\n",
    "term_frequency_threshold = 0.5  \n",
    "num_sentences = 8  # for composite summary\n",
    "#\n",
    "collectionpath = r\"C:\\Users\\zwelz3\\Documents\\GTRI_Projects\\Summarizer\\milnlp\\Examples\""
   ]
  },
  {
   "cell_type": "raw",
   "metadata": {},
   "source": [
    "cobj = Collection(collectionpath)\n",
    "# at this point, the collection object is just a path container\n",
    "cobj.process_collection()\n",
    "# at this point, the collection object contains a list of all files in the collection (full paths) \n",
    "#    and a list of directories at their respective levels (i.e. 0 == top level) \n",
    "cobj.generate_metadata(summarizer, token, term_frequency_threshold)\n",
    "# at this point, all the (super)metadata files are created and populated for the collection"
   ]
  },
  {
   "cell_type": "code",
   "execution_count": 2,
   "metadata": {},
   "outputs": [
    {
     "name": "stdout",
     "output_type": "stream",
     "text": [
      "\n",
      "Discovered directory '.ipynb_checkpoints'\n",
      "\n",
      "Discovered directory 'Archive'\n",
      "\n",
      "Discovered directory '.ipynb_checkpoints'\n",
      "-> Discovered file 'example.pdf'\n",
      "-> Discovered file 'example.txt'\n",
      "-> Discovered file 'minimum.pdf'\n",
      "-> Discovered file 'minimum.txt'\n",
      "\n",
      "Discovered directory 'obj'\n"
     ]
    }
   ],
   "source": [
    "from milnlp.collection.collection import get_items\n",
    "\n",
    "cobj = Collection(collectionpath)\n",
    "cobj.flist, cobj.dlist = get_items(collectionpath, set(), {collectionpath: 0})"
   ]
  },
  {
   "cell_type": "markdown",
   "metadata": {},
   "source": [
    "## Make new queries"
   ]
  },
  {
   "cell_type": "code",
   "execution_count": 3,
   "metadata": {},
   "outputs": [],
   "source": [
    "# Placeholder object for containing 'Query List' used to populate GUI\n",
    "GUI_query_list = []"
   ]
  },
  {
   "cell_type": "code",
   "execution_count": 4,
   "metadata": {},
   "outputs": [
    {
     "data": {
      "text/plain": [
       "{'UUID': 'SQ_001',\n",
       " 'type': 'simple',\n",
       " 'processed': False,\n",
       " 'match': None,\n",
       " 'regex': '(^|(?<=[\\\\W\\x0c]))OSA[\\\\W]',\n",
       " 'flags': {'case-sensitive': True,\n",
       "  'whole-word': True,\n",
       "  'special-delims': False,\n",
       "  'plurals': False,\n",
       "  'constituents': False},\n",
       " 'phrase': 'OSA'}"
      ]
     },
     "execution_count": 4,
     "metadata": {},
     "output_type": "execute_result"
    }
   ],
   "source": [
    "from milnlp.collection.topic_model import SimpleQuery, ComplexQuery\n",
    "\n",
    "# Same flag_dict for both simple queries\n",
    "flag_dict = {\n",
    "    'case-sensitive': True,\n",
    "    'whole-word': True,\n",
    "    'special-delims': False,\n",
    "    'plurals': False,\n",
    "    'constituents': False,\n",
    "}\n",
    "\n",
    "query = SimpleQuery(\"OSA\")\n",
    "query.update_flags(flag_dict)  # automatically updates the regex phrase\n",
    "# query.apply_query(cobj.flist)\n",
    "GUI_query_list.append(query)\n",
    "query.__dict__"
   ]
  },
  {
   "cell_type": "code",
   "execution_count": 5,
   "metadata": {},
   "outputs": [
    {
     "data": {
      "text/plain": [
       "{'UUID': 'SQ_002',\n",
       " 'type': 'simple',\n",
       " 'processed': False,\n",
       " 'match': None,\n",
       " 'regex': '(^|(?<=[\\\\W\\x0c]))OMS[\\\\W]',\n",
       " 'flags': {'case-sensitive': True,\n",
       "  'whole-word': True,\n",
       "  'special-delims': False,\n",
       "  'plurals': False,\n",
       "  'constituents': False},\n",
       " 'phrase': 'OMS'}"
      ]
     },
     "execution_count": 5,
     "metadata": {},
     "output_type": "execute_result"
    }
   ],
   "source": [
    "query = SimpleQuery(\"OMS\")\n",
    "query.update_flags(flag_dict)  # automatically updates the regex phrase\n",
    "# query.apply_query(cobj.flist)\n",
    "GUI_query_list.append(query)\n",
    "query.__dict__"
   ]
  },
  {
   "cell_type": "code",
   "execution_count": 6,
   "metadata": {},
   "outputs": [
    {
     "data": {
      "text/plain": [
       "[<milnlp.collection.topic_model.SimpleQuery at 0x217d14d0d68>,\n",
       " <milnlp.collection.topic_model.SimpleQuery at 0x217d14d09b0>]"
      ]
     },
     "execution_count": 6,
     "metadata": {},
     "output_type": "execute_result"
    }
   ],
   "source": [
    "GUI_query_list"
   ]
  },
  {
   "cell_type": "code",
   "execution_count": 7,
   "metadata": {},
   "outputs": [
    {
     "name": "stdout",
     "output_type": "stream",
     "text": [
      "Adding query SQ_001 to the shelf.\n",
      "Adding query SQ_002 to the shelf.\n"
     ]
    }
   ],
   "source": [
    "import shelve\n",
    "\n",
    "## Write to shelve\n",
    "with shelve.open('./obj/query_shelf', 'c') as shelf:\n",
    "    for query in GUI_query_list:\n",
    "        print(f\"Adding query {query.UUID} to the shelf.\")\n",
    "        shelf[query.UUID] = query"
   ]
  },
  {
   "cell_type": "markdown",
   "metadata": {},
   "source": [
    "## Complex Query"
   ]
  },
  {
   "cell_type": "code",
   "execution_count": 8,
   "metadata": {},
   "outputs": [
    {
     "name": "stdout",
     "output_type": "stream",
     "text": [
      "\n",
      "Analyzing file:  C:\\Users\\zwelz3\\Documents\\GTRI_Projects\\Summarizer\\milnlp\\Examples\\minimum.txt\n",
      "-> Matches found on pages:  {0, 1}\n",
      "\n",
      "Analyzing file:  C:\\Users\\zwelz3\\Documents\\GTRI_Projects\\Summarizer\\milnlp\\Examples\\example.txt\n",
      "-> Matches found on pages:  {0}\n",
      "Updating simple query SQ_001 on the shelf.\n",
      "\n",
      "Analyzing file:  C:\\Users\\zwelz3\\Documents\\GTRI_Projects\\Summarizer\\milnlp\\Examples\\minimum.txt\n",
      "-> Matches found on pages:  {0, 2}\n",
      "\n",
      "Analyzing file:  C:\\Users\\zwelz3\\Documents\\GTRI_Projects\\Summarizer\\milnlp\\Examples\\example.txt\n",
      "Updating simple query SQ_002 on the shelf.\n",
      "Updating complex query CQ_001 on the shelf.\n"
     ]
    },
    {
     "data": {
      "text/plain": [
       "{'UUID': 'CQ_001',\n",
       " 'type': 'complex',\n",
       " 'processed': True,\n",
       " 'match': {'C:\\\\Users\\\\zwelz3\\\\Documents\\\\GTRI_Projects\\\\Summarizer\\\\milnlp\\\\Examples\\\\minimum.txt': [0,\n",
       "   1,\n",
       "   2],\n",
       "  'C:\\\\Users\\\\zwelz3\\\\Documents\\\\GTRI_Projects\\\\Summarizer\\\\milnlp\\\\Examples\\\\example.txt': [0]},\n",
       " 'phrase': 'SQ_001 or SQ_002',\n",
       " 'regex': 'union(SQ_001, SQ_002)',\n",
       " 'operator': 'union',\n",
       " 'shelf_path': './obj/query_shelf',\n",
       " '_dependencies': [<milnlp.collection.topic_model.SimpleQuery at 0x217d16124a8>,\n",
       "  <milnlp.collection.topic_model.SimpleQuery at 0x217d1612588>]}"
      ]
     },
     "execution_count": 8,
     "metadata": {},
     "output_type": "execute_result"
    }
   ],
   "source": [
    "shelf_path = './obj/query_shelf'  # default, maybe loaded from GUI\n",
    "query_list = ['SQ_001', 'SQ_002']  # from combo boxes\n",
    "\n",
    "cq_example = ComplexQuery(shelf_path, query_list, 'Union')\n",
    "cq_example.apply_query(cobj.flist, shelf_path=shelf_path)\n",
    "cq_example.__dict__"
   ]
  },
  {
   "cell_type": "code",
   "execution_count": 9,
   "metadata": {},
   "outputs": [
    {
     "name": "stdout",
     "output_type": "stream",
     "text": [
      "Updating complex query CQ_002 on the shelf.\n"
     ]
    },
    {
     "data": {
      "text/plain": [
       "{'UUID': 'CQ_002',\n",
       " 'type': 'complex',\n",
       " 'processed': True,\n",
       " 'match': {'C:\\\\Users\\\\zwelz3\\\\Documents\\\\GTRI_Projects\\\\Summarizer\\\\milnlp\\\\Examples\\\\minimum.txt': [0,\n",
       "   1,\n",
       "   2]},\n",
       " 'phrase': 'SQ_001 and SQ_002',\n",
       " 'regex': 'intersection(SQ_001, SQ_002)',\n",
       " 'operator': 'intersection',\n",
       " 'shelf_path': './obj/query_shelf',\n",
       " '_dependencies': [<milnlp.collection.topic_model.SimpleQuery at 0x217d1612da0>,\n",
       "  <milnlp.collection.topic_model.SimpleQuery at 0x217d1612160>]}"
      ]
     },
     "execution_count": 9,
     "metadata": {},
     "output_type": "execute_result"
    }
   ],
   "source": [
    "shelf_path = './obj/query_shelf'  # default, maybe loaded from GUI\n",
    "query_list = ['SQ_001', 'SQ_002']  # from combo boxes\n",
    "\n",
    "cq_example = ComplexQuery(shelf_path, query_list, 'intersection')\n",
    "cq_example.apply_query(cobj.flist, shelf_path=shelf_path)\n",
    "cq_example.__dict__"
   ]
  },
  {
   "cell_type": "code",
   "execution_count": null,
   "metadata": {},
   "outputs": [],
   "source": []
  }
 ],
 "metadata": {
  "kernelspec": {
   "display_name": "Python [conda env:ecct]",
   "language": "python",
   "name": "conda-env-ecct-py"
  },
  "language_info": {
   "codemirror_mode": {
    "name": "ipython",
    "version": 3
   },
   "file_extension": ".py",
   "mimetype": "text/x-python",
   "name": "python",
   "nbconvert_exporter": "python",
   "pygments_lexer": "ipython3",
   "version": "3.6.6"
  }
 },
 "nbformat": 4,
 "nbformat_minor": 2
}
