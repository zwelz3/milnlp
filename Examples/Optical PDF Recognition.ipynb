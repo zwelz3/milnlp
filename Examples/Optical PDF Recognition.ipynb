{
 "cells": [
  {
   "cell_type": "code",
   "execution_count": 1,
   "metadata": {},
   "outputs": [
    {
     "name": "stdout",
     "output_type": "stream",
     "text": [
      "[nltk_data] Downloading package stopwords to\n",
      "[nltk_data]     C:\\Users\\zwelz3\\AppData\\Roaming\\nltk_data...\n",
      "[nltk_data]   Package stopwords is already up-to-date!\n",
      "Using default NLTK tokenizer not english. Custom language tokenizers not available.\n"
     ]
    }
   ],
   "source": [
    "from sumy.nlp.stemmers import Stemmer\n",
    "from sumy.utils import get_stop_words\n",
    "from sumy.summarizers.lex_rank import LexRankSummarizer as Summarizer  # use this summarizer for naive metadata summary\n",
    "#\n",
    "from milnlp.tokenizers import Tokenizer\n",
    "from milnlp.collection.collection import Collection\n",
    "\n",
    "LANGUAGE = \"english\"\n",
    "stemmer = Stemmer(LANGUAGE)\n",
    "summarizer = Summarizer(stemmer)\n",
    "summarizer.stop_words = get_stop_words(LANGUAGE)\n",
    "token = Tokenizer(LANGUAGE)\n",
    "#\n",
    "term_frequency_threshold = 0.5  \n",
    "num_sentences = 8  # for composite summary\n",
    "#\n",
    "collection_path = r\"C:\\Users\\zwelz3\\Documents\\GTRI_Projects\\ECCT_EW_EMS\\Optical PDF Test\""
   ]
  },
  {
   "cell_type": "code",
   "execution_count": 2,
   "metadata": {},
   "outputs": [
    {
     "name": "stdout",
     "output_type": "stream",
     "text": [
      "Processing collection at path ...\\Optical PDF Test: \n",
      "\n",
      "-> Discovered file 'optical_example 1.pdf'\n",
      "-> Discovered file 'optical_example 2.pdf'\n",
      "-> Discovered file 'regular_pdf.pdf'\n",
      "\n",
      "Total number of directories:  1\n",
      "Total number of files:  3 \n",
      "\n",
      "Removing old metadata file. C:\\Users\\zwelz3\\Documents\\GTRI_Projects\\ECCT_EW_EMS\\Optical PDF Test\\regular_pdf.mdoc\n",
      "Metadata file created:  regular_pdf.mdoc\n",
      "Removing old metadata file. C:\\Users\\zwelz3\\Documents\\GTRI_Projects\\ECCT_EW_EMS\\Optical PDF Test\\optical_example 1.mdoc\n",
      "Metadata file created:  optical_example 1.mdoc\n",
      "Removing old metadata file. C:\\Users\\zwelz3\\Documents\\GTRI_Projects\\ECCT_EW_EMS\\Optical PDF Test\\optical_example 2.mdoc\n",
      "Metadata file created:  optical_example 2.mdoc\n",
      "Parsing 1/3:  C:\\Users\\zwelz3\\Documents\\GTRI_Projects\\ECCT_EW_EMS\\Optical PDF Test\\regular_pdf.pdf\n",
      "    - Updating metadata file:  C:\\Users\\zwelz3\\Documents\\GTRI_Projects\\ECCT_EW_EMS\\Optical PDF Test\\regular_pdf.mdoc\n",
      "Metadata file updated.\n",
      "Parsing 2/3:  C:\\Users\\zwelz3\\Documents\\GTRI_Projects\\ECCT_EW_EMS\\Optical PDF Test\\optical_example 1.pdf\n",
      "Document is likely corrupt or not a machine-readable PDF file.\n",
      "Parsing 3/3:  C:\\Users\\zwelz3\\Documents\\GTRI_Projects\\ECCT_EW_EMS\\Optical PDF Test\\optical_example 2.pdf\n",
      "Document is likely corrupt or not a machine-readable PDF file.\n",
      "============================\n",
      "  Processing Level 0\n",
      "============================\n",
      "Path:  C:\\Users\\zwelz3\\Documents\\GTRI_Projects\\ECCT_EW_EMS\\Optical PDF Test\n",
      "File:  Optical PDF Test_lvl0.smdoc\n",
      "-> Adding MDOC:  optical_example 1.mdoc-> Adding MDOC:  optical_example 2.mdoc-> Adding MDOC:  regular_pdf.mdoc| Discovered 268 keywords.\n",
      "Writing SMDOC:  C:\\Users\\zwelz3\\Documents\\GTRI_Projects\\ECCT_EW_EMS\\Optical PDF Test\\Optical PDF Test_lvl0.smdoc \n",
      "\n",
      "SMDOC file created.\n"
     ]
    }
   ],
   "source": [
    "cobj = Collection(collection_path)\n",
    "# at this point, the collection object is just a path container\n",
    "cobj.process_collection()\n",
    "# at this point, the collection object contains a list of all files in the collection (full paths) \n",
    "#    and a list of directories at their respective levels (i.e. 0 == top level) \n",
    "cobj.generate_metadata(summarizer, token, term_frequency_threshold)\n",
    "# at this point, all the (super)metadata files are created and populated for the collection"
   ]
  },
  {
   "cell_type": "code",
   "execution_count": null,
   "metadata": {},
   "outputs": [],
   "source": []
  }
 ],
 "metadata": {
  "kernelspec": {
   "display_name": "Python [conda env:ecct]",
   "language": "python",
   "name": "conda-env-ecct-py"
  },
  "language_info": {
   "codemirror_mode": {
    "name": "ipython",
    "version": 3
   },
   "file_extension": ".py",
   "mimetype": "text/x-python",
   "name": "python",
   "nbconvert_exporter": "python",
   "pygments_lexer": "ipython3",
   "version": "3.6.6"
  }
 },
 "nbformat": 4,
 "nbformat_minor": 2
}
