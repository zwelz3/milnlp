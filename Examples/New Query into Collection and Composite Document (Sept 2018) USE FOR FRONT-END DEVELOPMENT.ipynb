{
 "cells": [
  {
   "cell_type": "code",
   "execution_count": 1,
   "metadata": {},
   "outputs": [
    {
     "name": "stdout",
     "output_type": "stream",
     "text": [
      "Using default NLTK tokenizer not english. Custom language tokenizers not available.\n"
     ]
    }
   ],
   "source": [
    "from sumy.nlp.stemmers import Stemmer\n",
    "from sumy.utils import get_stop_words\n",
    "from sumy.summarizers.lex_rank import LexRankSummarizer as Summarizer  # use this summarizer for naive metadata summary\n",
    "#\n",
    "from milnlp.tokenizers import Tokenizer\n",
    "from milnlp.collection.collection import Collection\n",
    "\n",
    "LANGUAGE = \"english\"\n",
    "stemmer = Stemmer(LANGUAGE)\n",
    "summarizer = Summarizer(stemmer)\n",
    "summarizer.stop_words = get_stop_words(LANGUAGE)\n",
    "token = Tokenizer(LANGUAGE)\n",
    "#\n",
    "term_frequency_threshold = 0.5  \n",
    "num_sentences = 8  # for composite summary\n",
    "#\n",
    "collectionpath = r\"C:\\Users\\zwelz3\\Documents\\GTRI_Projects\\ECCT_EW_EMS\\Market Research Sample\""
   ]
  },
  {
   "cell_type": "code",
   "execution_count": 2,
   "metadata": {},
   "outputs": [
    {
     "name": "stdout",
     "output_type": "stream",
     "text": [
      "\n",
      "Discovered directory 'Congested Spectrum'\n",
      "-> Discovered file 'Cognitive Radio.pdf'\n",
      "-> Discovered file 'Cognitive Radio.txt'\n",
      "-> Discovered file 'DARPA opens Shared Spectrum Access for Radar and Communications.pdf'\n",
      "-> Discovered file 'DARPA opens Shared Spectrum Access for Radar and Communications.txt'\n",
      "-> Discovered file 'DYSE.pdf'\n",
      "-> Discovered file 'DYSE.txt'\n",
      "-> Discovered file 'Electromagnetic spectrum sharing.pdf'\n",
      "-> Discovered file 'Electromagnetic spectrum sharing.txt'\n",
      "-> Discovered file 'ESCE for DEWSAR Feb 2018 v2 (FOUO).pdf'\n",
      "-> Discovered file 'ESCE for DEWSAR Feb 2018 v2 (FOUO).txt'\n",
      "-> Discovered file 'ESCE SOO.pdf'\n",
      "-> Discovered file 'ESCE SOO.txt'\n",
      "-> Discovered file 'SAIJ.pdf'\n",
      "-> Discovered file 'SAIJ.txt'\n",
      "-> Discovered file 'Summary - DARPA's Shared Spectrum Access for Radar and Communications.pdf'\n",
      "-> Discovered file 'Summary - DARPA's Shared Spectrum Access for Radar and Communications.txt'\n",
      "\n",
      "Discovered directory 'Hypersonic Weapons'\n",
      "-> Discovered file 'Army creating new POR for hypervelocity projectile.pdf'\n",
      "-> Discovered file 'Army creating new POR for hypervelocity projectile.txt'\n",
      "-> Discovered file 'DARPA Chief-National Hypersonics Needed - summary n source.pdf'\n",
      "-> Discovered file 'DARPA Chief-National Hypersonics Needed - summary n source.txt'\n",
      "-> Discovered file 'How Hypersonic Weapons Could Completely Change Face of War.pdf'\n",
      "-> Discovered file 'How Hypersonic Weapons Could Completely Change Face of War.txt'\n",
      "-> Discovered file 'Lockheed Martin tasked with developing hypersonic missiles.pdf'\n",
      "-> Discovered file 'Lockheed Martin tasked with developing hypersonic missiles.txt'\n",
      "-> Discovered file 'SCO aims to transition hypervelocity weapon next year.pdf'\n",
      "-> Discovered file 'SCO aims to transition hypervelocity weapon next year.txt'\n"
     ]
    }
   ],
   "source": [
    "from milnlp.collection.collection import get_items\n",
    "\n",
    "cobj = Collection(collectionpath)\n",
    "cobj.flist, cobj.dlist = get_items(collectionpath, set(), {collectionpath: 0})"
   ]
  },
  {
   "cell_type": "markdown",
   "metadata": {},
   "source": [
    "## Load in queries from shelve"
   ]
  },
  {
   "cell_type": "code",
   "execution_count": 13,
   "metadata": {},
   "outputs": [
    {
     "data": {
      "text/plain": [
       "[<milnlp.collection.topic_model.SimpleQuery at 0x276a0d82780>,\n",
       " <milnlp.collection.topic_model.SimpleQuery at 0x276a0d82d68>,\n",
       " <milnlp.collection.topic_model.ComplexQuery at 0x276a0d82f28>,\n",
       " <milnlp.collection.topic_model.ComplexQuery at 0x276a0d82898>]"
      ]
     },
     "execution_count": 13,
     "metadata": {},
     "output_type": "execute_result"
    }
   ],
   "source": [
    "from milnlp.collection.topic_model import SimpleQuery, ComplexQuery\n",
    "from milnlp.gui.utils import load_query_list\n",
    "\n",
    "queries = load_query_list(shelf_path=r\"C:\\Users\\zwelz3\\Documents\\GTRI_Projects\\ECCT_EW_EMS\\Query Example for MR Sample\\continuity_test\")\n",
    "queries"
   ]
  },
  {
   "cell_type": "markdown",
   "metadata": {},
   "source": [
    "## Create composite document"
   ]
  },
  {
   "cell_type": "code",
   "execution_count": 16,
   "metadata": {
    "scrolled": false
   },
   "outputs": [
    {
     "name": "stdout",
     "output_type": "stream",
     "text": [
      "Creating a composite document using the full constituent documents...\n",
      " - Reading in file 1/2\n",
      " - Reading in file 2/2\n",
      "Done!\n",
      "Using method 'full' results in:  <DOM with 112 paragraphs>\n",
      "\n",
      "Creating a composite document using only the relevant pages from constituent documents...\n",
      " - Reading in file 1/2\n",
      "  -> Matching pages: [1, 2, 3]\n",
      " - Reading in file 2/2\n",
      "  -> Matching pages: [3]\n",
      "Done!\n",
      "Using method 'reduced' results in:  <DOM with 62 paragraphs>\n"
     ]
    }
   ],
   "source": [
    "method = \"full\"  # reduced=page appearance only, full=entire document\n",
    "composite_doc_full = cobj.create_composite_doc_from_query_object(queries[-1], token, method=method)\n",
    "print(f\"Using method '{method}' results in: \", composite_doc_full)\n",
    "\n",
    "print('')\n",
    "\n",
    "method = \"reduced\"  # reduced=page appearance only, full=entire document\n",
    "composite_doc_reduced = cobj.create_composite_doc_from_query_object(queries[-1], token, method=method)\n",
    "print(f\"Using method '{method}' results in: \", composite_doc_reduced)"
   ]
  },
  {
   "cell_type": "code",
   "execution_count": 17,
   "metadata": {},
   "outputs": [
    {
     "data": {
      "text/plain": [
       "{'UUID': 'CQ_002',\n",
       " 'type': 'complex',\n",
       " 'processed': True,\n",
       " 'match': {'C:\\\\Users\\\\zwelz3\\\\Documents\\\\GTRI_Projects\\\\ECCT_EW_EMS\\\\Market Research Sample\\\\Hypersonic Weapons\\\\DARPA Chief-National Hypersonics Needed - summary n source.txt': [0,\n",
       "   1,\n",
       "   2],\n",
       "  'C:\\\\Users\\\\zwelz3\\\\Documents\\\\GTRI_Projects\\\\ECCT_EW_EMS\\\\Market Research Sample\\\\Hypersonic Weapons\\\\How Hypersonic Weapons Could Completely Change Face of War.txt': [2]},\n",
       " 'phrase': 'SQ_001 and SQ_002',\n",
       " 'regex': 'intersection(SQ_001, SQ_002)',\n",
       " 'operator': 'intersection',\n",
       " 'shelf_path': None,\n",
       " 'object_list': [<milnlp.collection.topic_model.SimpleQuery at 0x276a0d828d0>,\n",
       "  <milnlp.collection.topic_model.SimpleQuery at 0x276a0dc45c0>,\n",
       "  <milnlp.collection.topic_model.ComplexQuery at 0x276a0dc4978>,\n",
       "  <milnlp.collection.topic_model.ComplexQuery at 0x276a0d82898>],\n",
       " '_dependencies': [<milnlp.collection.topic_model.SimpleQuery at 0x276a0d828d0>,\n",
       "  <milnlp.collection.topic_model.SimpleQuery at 0x276a0dc45c0>]}"
      ]
     },
     "execution_count": 17,
     "metadata": {},
     "output_type": "execute_result"
    }
   ],
   "source": [
    "queries[-1].__dict__"
   ]
  },
  {
   "cell_type": "code",
   "execution_count": null,
   "metadata": {},
   "outputs": [],
   "source": []
  }
 ],
 "metadata": {
  "kernelspec": {
   "display_name": "Python [conda env:ecct]",
   "language": "python",
   "name": "conda-env-ecct-py"
  },
  "language_info": {
   "codemirror_mode": {
    "name": "ipython",
    "version": 3
   },
   "file_extension": ".py",
   "mimetype": "text/x-python",
   "name": "python",
   "nbconvert_exporter": "python",
   "pygments_lexer": "ipython3",
   "version": "3.6.6"
  }
 },
 "nbformat": 4,
 "nbformat_minor": 2
}
