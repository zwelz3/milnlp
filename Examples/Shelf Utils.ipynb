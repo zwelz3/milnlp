{
 "cells": [
  {
   "cell_type": "markdown",
   "metadata": {},
   "source": [
    "### Load shelve into query list"
   ]
  },
  {
   "cell_type": "code",
   "execution_count": 45,
   "metadata": {},
   "outputs": [
    {
     "data": {
      "text/plain": [
       "[<milnlp.collection.topic_model.SimpleQuery at 0x243cb5809e8>,\n",
       " <milnlp.collection.topic_model.SimpleQuery at 0x243cb580b70>,\n",
       " <milnlp.collection.topic_model.ComplexQuery at 0x243cb580978>,\n",
       " <milnlp.collection.topic_model.ComplexQuery at 0x243cb3ad278>]"
      ]
     },
     "execution_count": 45,
     "metadata": {},
     "output_type": "execute_result"
    }
   ],
   "source": [
    "from os import path\n",
    "\n",
    "def load_query_list(shelf_path='./obj/query_shelf'):\n",
    "    \"\"\"Loads a Python shelve file. \n",
    "    Resets 'matches' and 'processed' if on different system.\"\"\"\n",
    "    with shelve.open(shelf_path, 'r') as shelf:\n",
    "        query_obj_list = [shelf[key] for key in shelf.keys()]\n",
    "        \n",
    "    # Clean up matches if running on different machine\n",
    "    clean = False\n",
    "    for query in query_obj_list:\n",
    "        if query.match:\n",
    "            for key, match in query.match.items():\n",
    "                if not path.exists(key):\n",
    "                    clean = True  # means some directory didn't match up\n",
    "    # Have to run through after all have been checked\n",
    "    if clean:\n",
    "        for query in query_obj_list:\n",
    "            query.match = None\n",
    "            query.processed = False\n",
    "        \n",
    "    return query_obj_list\n",
    "\n",
    "query_obj_list = load_query_list()\n",
    "query_obj_list"
   ]
  },
  {
   "cell_type": "markdown",
   "metadata": {},
   "source": [
    "### Process query list into table for GUI"
   ]
  },
  {
   "cell_type": "code",
   "execution_count": 58,
   "metadata": {},
   "outputs": [
    {
     "data": {
      "text/plain": [
       "[['SQ_001', 'hypersonic weapon', '✕', '✕', '✓', '✓', '✓'],\n",
       " ['SQ_002', 'hypersonic weapon', '✕', '✕', '✓', '✓', '✕'],\n",
       " ['CQ_001', 'SQ_001 or SQ_002', '-', '-', '-', '-', '-'],\n",
       " ['CQ_002', 'SQ_001 and SQ_002', '-', '-', '-', '-', '-']]"
      ]
     },
     "execution_count": 58,
     "metadata": {},
     "output_type": "execute_result"
    }
   ],
   "source": [
    "import shelve\n",
    "# Import Classes needed\n",
    "from milnlp.collection.topic_model import SimpleQuery, ComplexQuery\n",
    "\n",
    "attribute_list = ['UUID', 'phrase', 'flags']\n",
    "flag_list = list(query_obj_list[0].flags.keys())\n",
    "\n",
    "def process_query_list(query_obj_list, attribute_list, flag_list):\n",
    "    \"\"\"Takes a query object list and returns the formatted row for the GUI\"\"\"         \n",
    "    query_list = []\n",
    "    for query in query_obj_list:\n",
    "        row = []\n",
    "        for attr in attribute_list:\n",
    "            if not attr == 'flags':\n",
    "                row.append(getattr(query, attr))\n",
    "            else:\n",
    "                for flag in flag_list:\n",
    "                    if getattr(query, 'type') == 'simple':\n",
    "                        row.append(u'\\u2713') if getattr(query, attr)[flag] else row.append(u'\\u2715')\n",
    "                    else:\n",
    "                        row.append('-')\n",
    "        query_list.append(row)\n",
    "    return query_list\n",
    "\n",
    "query_list = process_query_list(query_obj_list, attribute_list, flag_list)\n",
    "query_list"
   ]
  },
  {
   "cell_type": "code",
   "execution_count": 59,
   "metadata": {},
   "outputs": [
    {
     "data": {
      "text/html": [
       "<div>\n",
       "<style scoped>\n",
       "    .dataframe tbody tr th:only-of-type {\n",
       "        vertical-align: middle;\n",
       "    }\n",
       "\n",
       "    .dataframe tbody tr th {\n",
       "        vertical-align: top;\n",
       "    }\n",
       "\n",
       "    .dataframe thead th {\n",
       "        text-align: right;\n",
       "    }\n",
       "</style>\n",
       "<table border=\"1\" class=\"dataframe\">\n",
       "  <thead>\n",
       "    <tr style=\"text-align: right;\">\n",
       "      <th></th>\n",
       "      <th>Uuid</th>\n",
       "      <th>Phrase</th>\n",
       "      <th>Case-Sensitive</th>\n",
       "      <th>Whole-Word</th>\n",
       "      <th>Special-Delims</th>\n",
       "      <th>Plurals</th>\n",
       "      <th>Constituents</th>\n",
       "    </tr>\n",
       "  </thead>\n",
       "  <tbody>\n",
       "    <tr>\n",
       "      <th>0</th>\n",
       "      <td>SQ_001</td>\n",
       "      <td>hypersonic weapon</td>\n",
       "      <td>✕</td>\n",
       "      <td>✕</td>\n",
       "      <td>✓</td>\n",
       "      <td>✓</td>\n",
       "      <td>✓</td>\n",
       "    </tr>\n",
       "    <tr>\n",
       "      <th>1</th>\n",
       "      <td>SQ_002</td>\n",
       "      <td>hypersonic weapon</td>\n",
       "      <td>✕</td>\n",
       "      <td>✕</td>\n",
       "      <td>✓</td>\n",
       "      <td>✓</td>\n",
       "      <td>✕</td>\n",
       "    </tr>\n",
       "    <tr>\n",
       "      <th>2</th>\n",
       "      <td>CQ_001</td>\n",
       "      <td>SQ_001 or SQ_002</td>\n",
       "      <td>-</td>\n",
       "      <td>-</td>\n",
       "      <td>-</td>\n",
       "      <td>-</td>\n",
       "      <td>-</td>\n",
       "    </tr>\n",
       "    <tr>\n",
       "      <th>3</th>\n",
       "      <td>CQ_002</td>\n",
       "      <td>SQ_001 and SQ_002</td>\n",
       "      <td>-</td>\n",
       "      <td>-</td>\n",
       "      <td>-</td>\n",
       "      <td>-</td>\n",
       "      <td>-</td>\n",
       "    </tr>\n",
       "  </tbody>\n",
       "</table>\n",
       "</div>"
      ],
      "text/plain": [
       "     Uuid             Phrase Case-Sensitive Whole-Word Special-Delims Plurals  \\\n",
       "0  SQ_001  hypersonic weapon              ✕          ✕              ✓       ✓   \n",
       "1  SQ_002  hypersonic weapon              ✕          ✕              ✓       ✓   \n",
       "2  CQ_001   SQ_001 or SQ_002              -          -              -       -   \n",
       "3  CQ_002  SQ_001 and SQ_002              -          -              -       -   \n",
       "\n",
       "  Constituents  \n",
       "0            ✓  \n",
       "1            ✕  \n",
       "2            -  \n",
       "3            -  "
      ]
     },
     "execution_count": 59,
     "metadata": {},
     "output_type": "execute_result"
    }
   ],
   "source": [
    "import pandas as pd\n",
    "\n",
    "df = pd.DataFrame(query_list)\n",
    "df.columns = [label.title() for label in attribute_list[:-1]+flag_list]\n",
    "df"
   ]
  },
  {
   "cell_type": "code",
   "execution_count": null,
   "metadata": {},
   "outputs": [],
   "source": []
  }
 ],
 "metadata": {
  "kernelspec": {
   "display_name": "Python [conda env:ecct]",
   "language": "python",
   "name": "conda-env-ecct-py"
  },
  "language_info": {
   "codemirror_mode": {
    "name": "ipython",
    "version": 3
   },
   "file_extension": ".py",
   "mimetype": "text/x-python",
   "name": "python",
   "nbconvert_exporter": "python",
   "pygments_lexer": "ipython3",
   "version": "3.6.6"
  }
 },
 "nbformat": 4,
 "nbformat_minor": 2
}
