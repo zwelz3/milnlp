{
 "cells": [
  {
   "cell_type": "code",
   "execution_count": 1,
   "metadata": {},
   "outputs": [
    {
     "name": "stdout",
     "output_type": "stream",
     "text": [
      "Using default NLTK tokenizer not english. Custom language tokenizers not available.\n"
     ]
    }
   ],
   "source": [
    "from sumy.nlp.stemmers import Stemmer\n",
    "from sumy.utils import get_stop_words\n",
    "from sumy.summarizers.lsa import LsaSummarizer as Summarizer  # use this summarizer for naive metadata summary\n",
    "#\n",
    "from milnlp.tokenizers import Tokenizer\n",
    "from milnlp.collection.collection import Collection\n",
    "from milnlp.collection.collection import get_items\n",
    "\n",
    "LANGUAGE = \"english\"\n",
    "stemmer = Stemmer(LANGUAGE)\n",
    "summarizer = Summarizer(stemmer)\n",
    "summarizer.stop_words = get_stop_words(LANGUAGE)\n",
    "token = Tokenizer(LANGUAGE)\n",
    "#\n",
    "term_frequency_threshold = 0.5  \n",
    "num_sentences = 8  # for composite summary"
   ]
  },
  {
   "cell_type": "code",
   "execution_count": 2,
   "metadata": {},
   "outputs": [],
   "source": [
    "import os\n",
    "import re\n",
    "\n",
    "from itertools import chain"
   ]
  },
  {
   "cell_type": "code",
   "execution_count": 3,
   "metadata": {},
   "outputs": [
    {
     "name": "stdout",
     "output_type": "stream",
     "text": [
      "-> Discovered file 'AFRL RY Meeting, Cognitive Adaptive EW, 18 Oct 17.pdf'\n",
      "-> Discovered file 'AFRL RY Meeting, Cognitive Adaptive EW, 18 Oct 17.txt'\n",
      "-> Discovered file 'Basic Cognitive EW Concepts.pdf'\n",
      "-> Discovered file 'Basic Cognitive EW Concepts.txt'\n",
      "-> Discovered file 'Cognitive Electronic Warfare, Adaptive Radars.pdf'\n",
      "-> Discovered file 'Cognitive Electronic Warfare, Adaptive Radars.txt'\n",
      "-> Discovered file 'Cognitive EW - Countering Threats Posed By Adaptive Radars.pdf'\n",
      "-> Discovered file 'Cognitive EW - Countering Threats Posed By Adaptive Radars.txt'\n",
      "-> Discovered file 'Cognitive EW Explanation.pdf'\n",
      "-> Discovered file 'Cognitive EW Explanation.txt'\n",
      "-> Discovered file 'Difference Between Adaptive and Cognitive EW.pdf'\n",
      "-> Discovered file 'Difference Between Adaptive and Cognitive EW.txt'\n",
      "-> Discovered file 'Handheld Cognitive EW Technology (BAE).pdf'\n",
      "-> Discovered file 'Handheld Cognitive EW Technology (BAE).txt'\n",
      "-> Discovered file 'Lt Col Corbell's Cognitive EW Definition.pdf'\n",
      "-> Discovered file 'Lt Col Corbell's Cognitive EW Definition.txt'\n",
      "-> Discovered file 'Small, Lightweight Maritime Payloads for Adaptive, Cognitive EW.pdf'\n",
      "-> Discovered file 'Small, Lightweight Maritime Payloads for Adaptive, Cognitive EW.txt'\n"
     ]
    }
   ],
   "source": [
    "collection_path = r\"C:\\Users\\zwelz3\\Documents\\GTRI_Projects\\ECCT_EW_EMS\\Market Research\"\n",
    "query_path = r\"C:\\Users\\zwelz3\\Documents\\GTRI_Projects\\ECCT_EW_EMS\\Market Research\\Concepts, Processes, Approaches\\Autonomous Ops\\Adaptive Cognitive EW\"\n",
    "\n",
    "cobj = Collection(query_path)\n",
    "cobj.flist, cobj.dlist = get_items(query_path, set(), {query_path: 0})"
   ]
  },
  {
   "cell_type": "code",
   "execution_count": 4,
   "metadata": {},
   "outputs": [
    {
     "name": "stdout",
     "output_type": "stream",
     "text": [
      "Number of levels in query path: 3\n",
      "Number of descriptive levels used to build query: 1\n",
      "->  ['Adaptive Cognitive EW']\n"
     ]
    }
   ],
   "source": [
    "assert collection_path in query_path, \"\"\n",
    "query_branch = query_path[len(collection_path):].split('\\\\')\n",
    "query_branch = list(filter(None, query_branch))\n",
    "\n",
    "print(f\"Number of levels in query path: {len(query_branch)}\")\n",
    "level_thresh = -1\n",
    "levels = query_branch[level_thresh:]\n",
    "print(f\"Number of descriptive levels used to build query: {len(levels)}\")\n",
    "print(\"-> \", levels)"
   ]
  },
  {
   "cell_type": "code",
   "execution_count": 5,
   "metadata": {},
   "outputs": [],
   "source": [
    "raw_query_string = ' '.join([level for level in levels])"
   ]
  },
  {
   "cell_type": "code",
   "execution_count": 6,
   "metadata": {},
   "outputs": [
    {
     "data": {
      "text/plain": [
       "'Autonomous Ops Adaptive Cognitive EW Electronic Warfare Capability Upgradeability OSA F-35'"
      ]
     },
     "execution_count": 6,
     "metadata": {},
     "output_type": "execute_result"
    }
   ],
   "source": [
    "example_raw_query_string = 'Autonomous Ops Adaptive Cognitive EW (Electronic, Warfare), Capability (Upgradeability - OSA), F-35'\n",
    "example_raw_query_string = re.sub('[(),]', '', example_raw_query_string)\n",
    "example_raw_query_string = re.sub(' - ', ' ', example_raw_query_string)\n",
    "example_raw_query_string"
   ]
  },
  {
   "cell_type": "code",
   "execution_count": 7,
   "metadata": {},
   "outputs": [
    {
     "data": {
      "text/plain": [
       "'Adaptive Cognitive EW'"
      ]
     },
     "execution_count": 7,
     "metadata": {},
     "output_type": "execute_result"
    }
   ],
   "source": [
    "raw_query_string = re.sub('[(),]', '', raw_query_string)\n",
    "raw_query_string = re.sub(' - ', ' ', raw_query_string)\n",
    "raw_query_string"
   ]
  },
  {
   "cell_type": "code",
   "execution_count": 8,
   "metadata": {},
   "outputs": [
    {
     "data": {
      "text/plain": [
       "[('[\\\\W]Adaptive[\\\\W]',), ('[\\\\W]Cognitive[\\\\W]',), ('[\\\\W]EW[\\\\W]',)]"
      ]
     },
     "execution_count": 8,
     "metadata": {},
     "output_type": "execute_result"
    }
   ],
   "source": [
    "query_words = raw_query_string.split(' ')\n",
    "query = [(f\"[\\W]{word}[\\W]\",) for word in query_words]\n",
    "query"
   ]
  },
  {
   "cell_type": "code",
   "execution_count": 9,
   "metadata": {},
   "outputs": [
    {
     "name": "stdout",
     "output_type": "stream",
     "text": [
      "Performing union query...\n",
      "Done!\n"
     ]
    }
   ],
   "source": [
    "results = cobj.make_query(query)"
   ]
  },
  {
   "cell_type": "code",
   "execution_count": 10,
   "metadata": {},
   "outputs": [
    {
     "name": "stdout",
     "output_type": "stream",
     "text": [
      "The term [\\W]Adaptive[\\W] shows up in 6 documents.\n",
      "The term [\\W]Cognitive[\\W] shows up in 9 documents.\n",
      "The term [\\W]EW[\\W] shows up in 9 documents.\n",
      "\n",
      "The unioned terms show up in 9 unique documents.\n"
     ]
    },
    {
     "data": {
      "text/plain": [
       "{'C:\\\\Users\\\\zwelz3\\\\Documents\\\\GTRI_Projects\\\\ECCT_EW_EMS\\\\Market Research\\\\Concepts, Processes, Approaches\\\\Autonomous Ops\\\\Adaptive Cognitive EW\\\\AFRL RY Meeting, Cognitive Adaptive EW, 18 Oct 17.txt',\n",
       " 'C:\\\\Users\\\\zwelz3\\\\Documents\\\\GTRI_Projects\\\\ECCT_EW_EMS\\\\Market Research\\\\Concepts, Processes, Approaches\\\\Autonomous Ops\\\\Adaptive Cognitive EW\\\\Basic Cognitive EW Concepts.txt',\n",
       " 'C:\\\\Users\\\\zwelz3\\\\Documents\\\\GTRI_Projects\\\\ECCT_EW_EMS\\\\Market Research\\\\Concepts, Processes, Approaches\\\\Autonomous Ops\\\\Adaptive Cognitive EW\\\\Cognitive EW - Countering Threats Posed By Adaptive Radars.txt',\n",
       " 'C:\\\\Users\\\\zwelz3\\\\Documents\\\\GTRI_Projects\\\\ECCT_EW_EMS\\\\Market Research\\\\Concepts, Processes, Approaches\\\\Autonomous Ops\\\\Adaptive Cognitive EW\\\\Cognitive EW Explanation.txt',\n",
       " 'C:\\\\Users\\\\zwelz3\\\\Documents\\\\GTRI_Projects\\\\ECCT_EW_EMS\\\\Market Research\\\\Concepts, Processes, Approaches\\\\Autonomous Ops\\\\Adaptive Cognitive EW\\\\Cognitive Electronic Warfare, Adaptive Radars.txt',\n",
       " 'C:\\\\Users\\\\zwelz3\\\\Documents\\\\GTRI_Projects\\\\ECCT_EW_EMS\\\\Market Research\\\\Concepts, Processes, Approaches\\\\Autonomous Ops\\\\Adaptive Cognitive EW\\\\Difference Between Adaptive and Cognitive EW.txt',\n",
       " 'C:\\\\Users\\\\zwelz3\\\\Documents\\\\GTRI_Projects\\\\ECCT_EW_EMS\\\\Market Research\\\\Concepts, Processes, Approaches\\\\Autonomous Ops\\\\Adaptive Cognitive EW\\\\Handheld Cognitive EW Technology (BAE).txt',\n",
       " \"C:\\\\Users\\\\zwelz3\\\\Documents\\\\GTRI_Projects\\\\ECCT_EW_EMS\\\\Market Research\\\\Concepts, Processes, Approaches\\\\Autonomous Ops\\\\Adaptive Cognitive EW\\\\Lt Col Corbell's Cognitive EW Definition.txt\",\n",
       " 'C:\\\\Users\\\\zwelz3\\\\Documents\\\\GTRI_Projects\\\\ECCT_EW_EMS\\\\Market Research\\\\Concepts, Processes, Approaches\\\\Autonomous Ops\\\\Adaptive Cognitive EW\\\\Small, Lightweight Maritime Payloads for Adaptive, Cognitive EW.txt'}"
      ]
     },
     "execution_count": 10,
     "metadata": {},
     "output_type": "execute_result"
    }
   ],
   "source": [
    "unique_docs1 = set()\n",
    "for term in results[0].keys():\n",
    "    print(\"The term\", term, \"shows up in\", len(results[0][term].keys()), \"documents.\")\n",
    "    unique_docs1 = unique_docs1.union(set(list(results[0][term].keys())))\n",
    "\n",
    "print(f\"\\nThe unioned terms show up in {len(unique_docs1)} unique documents.\")\n",
    "unique_docs1"
   ]
  },
  {
   "cell_type": "code",
   "execution_count": 11,
   "metadata": {},
   "outputs": [
    {
     "name": "stdout",
     "output_type": "stream",
     "text": [
      "Performing union query...\n",
      "Done!\n",
      "Creating a composite document using the full constituent documents...\n",
      " - Reading in file 1/9\n",
      " - Reading in file 2/9\n",
      " - Reading in file 3/9\n",
      " - Reading in file 4/9\n",
      " - Reading in file 5/9\n",
      " - Reading in file 6/9\n",
      " - Reading in file 7/9\n",
      " - Reading in file 8/9\n",
      " - Reading in file 9/9\n",
      "Done!\n",
      "*  ?0/Scalable, Multi-Protocol ConnectivityCompact Rugged Avionics Interface ComputerScalable, Multi-Protocol Connectivity High Density Computing & Connectivity Intel Atom Architecture  Expanded Scalable Capabilities USB 3.0 SupportSWaP-C Optimized System Rugged Deployable Compact Enclosure Low Power Computing Performance  MIL-STD-810G Shock, Vibration & Immersion / MIL-STD-461F EMIMulti-Protocol Flexibility Ethernet, MIL-STD-1553, ARINC 429/717, CANbus 2.0/ARINC 825,     RS-232/422/485 & Avionics/Digital Discrete I/O 3 modes (Remote Access, Protocol Conversion & Standalone) Expandable: (2) Mini-PCIe sites & (1) I/O Expansion Module53years of serviceTo learn more, visit  a t a   D e v i c e  c o r p o r a t i o noutside  prior  known  bounds    todays systems have very limited ability to char-acterize  the  threat  or  turn  around  an appropriate response.\n",
      "*  Future cognitive EWInterestingly, in terms of the hardware involved, Lockheed Martin is finding that a commercial off-the-shelf (COTS) open-architecture approach allows a rapid insertion of new capability to continually improve the ability and performance of the SEWIP Block 2 system.\n",
      "*  Through a contract from the U.S. Defense Advanced Research Projects Agency (DARPA), BAE Systems has developed a new lightweight, handheld tactical sensor that soldiers can easily carry and use to better understand radio frequency (RF) signals for enhanced situational awareness.\n",
      "*  In his estimation, the state-of-the-art in EW is the systems deployed on U.S. 5th generation fighters - Lockheed Martin's F-22 Raptor and F-35 Lightning II - and the data collection and processing capabilities of the Boeing RC-135 Rivet Joint reconnaissance aircraft.\n",
      "\n",
      "\n",
      "\n",
      "Performing union query...\n",
      "Done!\n",
      "Creating a composite document using only the relevant pages from constituent documents...\n",
      " - Reading in file 1/9\n",
      "  -> Matching pages: {1, 2, 3, 4}\n",
      " - Reading in file 2/9\n",
      "  -> Matching pages: {1}\n",
      " - Reading in file 3/9\n",
      "  -> Matching pages: {1, 2, 3}\n",
      " - Reading in file 4/9\n",
      "  -> Matching pages: {1, 2}\n",
      " - Reading in file 5/9\n",
      "  -> Matching pages: {1, 2}\n",
      " - Reading in file 6/9\n",
      "  -> Matching pages: {1, 2}\n",
      " - Reading in file 7/9\n",
      "  -> Matching pages: {1}\n",
      " - Reading in file 8/9\n",
      "  -> Matching pages: {1, 2}\n",
      " - Reading in file 9/9\n",
      "  -> Matching pages: {1, 2}\n",
      "Done!\n",
      "*  ?0/Scalable, Multi-Protocol ConnectivityCompact Rugged Avionics Interface ComputerScalable, Multi-Protocol Connectivity High Density Computing & Connectivity Intel Atom Architecture  Expanded Scalable Capabilities USB 3.0 SupportSWaP-C Optimized System Rugged Deployable Compact Enclosure Low Power Computing Performance  MIL-STD-810G Shock, Vibration & Immersion / MIL-STD-461F EMIMulti-Protocol Flexibility Ethernet, MIL-STD-1553, ARINC 429/717, CANbus 2.0/ARINC 825,     RS-232/422/485 & Avionics/Digital Discrete I/O 3 modes (Remote Access, Protocol Conversion & Standalone) Expandable: (2) Mini-PCIe sites & (1) I/O Expansion Module53years of serviceTo learn more, visit  a t a   D e v i c e  c o r p o r a t i o noutside  prior  known  bounds    todays systems have very limited ability to char-acterize  the  threat  or  turn  around  an appropriate response.\n",
      "*  Future cognitive EWInterestingly, in terms of the hardware involved, Lockheed Martin is finding that a commercial off-the-shelf (COTS) open-architecture approach allows a rapid insertion of new capability to continually improve the ability and performance of the SEWIP Block 2 system.\n",
      "*  Through a contract from the U.S. Defense Advanced Research Projects Agency (DARPA), BAE Systems has developed a new lightweight, handheld tactical sensor that soldiers can easily carry and use to better understand radio frequency (RF) signals for enhanced situational awareness.\n",
      "*  In his estimation, the state-of-the-art in EW is the systems deployed on U.S. 5th generation fighters - Lockheed Martin's F-22 Raptor and F-35 Lightning II - and the data collection and processing capabilities of the Boeing RC-135 Rivet Joint reconnaissance aircraft.\n"
     ]
    }
   ],
   "source": [
    "composite_doc = cobj.create_composite_document(query, token, method='full')\n",
    "summary = cobj.summarize_composite(composite_doc, summarizer, 4)\n",
    "for sentence in summary:\n",
    "    print('* ', str(sentence))\n",
    "    \n",
    "    \n",
    "print('\\n\\n')\n",
    "\n",
    "composite_doc = cobj.create_composite_document(query, token, method='reduced')\n",
    "summary = cobj.summarize_composite(composite_doc, summarizer, 4)\n",
    "for sentence in summary:\n",
    "    print('* ', str(sentence))"
   ]
  },
  {
   "cell_type": "markdown",
   "metadata": {},
   "source": [
    "### Make summary without query (using passed collection path)"
   ]
  },
  {
   "cell_type": "code",
   "execution_count": 12,
   "metadata": {},
   "outputs": [
    {
     "name": "stdout",
     "output_type": "stream",
     "text": [
      "Sub-collection:  C:\\Users\\zwelz3\\Documents\\GTRI_Projects\\ECCT_EW_EMS\\Market Research\\Concepts, Processes, Approaches\\Autonomous Ops\\Adaptive Cognitive EW\n",
      "Creating a composite document using all files in sub-collection...\n",
      " - Reading in file 1/9\n",
      " - Reading in file 2/9\n",
      " - Reading in file 3/9\n",
      " - Reading in file 4/9\n",
      " - Reading in file 5/9\n",
      " - Reading in file 6/9\n",
      " - Reading in file 7/9\n",
      " - Reading in file 8/9\n",
      " - Reading in file 9/9\n",
      "Done!\n"
     ]
    },
    {
     "data": {
      "text/plain": [
       "<DOM with 153 paragraphs>"
      ]
     },
     "execution_count": 12,
     "metadata": {},
     "output_type": "execute_result"
    }
   ],
   "source": [
    "composite_doc = cobj.create_composite_document(None, token)\n",
    "composite_doc"
   ]
  },
  {
   "cell_type": "code",
   "execution_count": 13,
   "metadata": {},
   "outputs": [
    {
     "name": "stdout",
     "output_type": "stream",
     "text": [
      "*  ?0/Scalable, Multi-Protocol ConnectivityCompact Rugged Avionics Interface ComputerScalable, Multi-Protocol Connectivity High Density Computing & Connectivity Intel Atom Architecture  Expanded Scalable Capabilities USB 3.0 SupportSWaP-C Optimized System Rugged Deployable Compact Enclosure Low Power Computing Performance  MIL-STD-810G Shock, Vibration & Immersion / MIL-STD-461F EMIMulti-Protocol Flexibility Ethernet, MIL-STD-1553, ARINC 429/717, CANbus 2.0/ARINC 825,     RS-232/422/485 & Avionics/Digital Discrete I/O 3 modes (Remote Access, Protocol Conversion & Standalone) Expandable: (2) Mini-PCIe sites & (1) I/O Expansion Module53years of serviceTo learn more, visit  a t a   D e v i c e  c o r p o r a t i o noutside  prior  known  bounds    todays systems have very limited ability to char-acterize  the  threat  or  turn  around  an appropriate response.\n",
      "*  Future cognitive EWInterestingly, in terms of the hardware involved, Lockheed Martin is finding that a commercial off-the-shelf (COTS) open-architecture approach allows a rapid insertion of new capability to continually improve the ability and performance of the SEWIP Block 2 system.\n",
      "*  Through a contract from the U.S. Defense Advanced Research Projects Agency (DARPA), BAE Systems has developed a new lightweight, handheld tactical sensor that soldiers can easily carry and use to better understand radio frequency (RF) signals for enhanced situational awareness.\n",
      "*  In his estimation, the state-of-the-art in EW is the systems deployed on U.S. 5th generation fighters - Lockheed Martin's F-22 Raptor and F-35 Lightning II - and the data collection and processing capabilities of the Boeing RC-135 Rivet Joint reconnaissance aircraft.\n"
     ]
    }
   ],
   "source": [
    "summary = cobj.summarize_composite(composite_doc, summarizer, 4)\n",
    "for sentence in summary:\n",
    "    print('* ', str(sentence))"
   ]
  }
 ],
 "metadata": {
  "kernelspec": {
   "display_name": "Python [conda env:ecct]",
   "language": "python",
   "name": "conda-env-ecct-py"
  },
  "language_info": {
   "codemirror_mode": {
    "name": "ipython",
    "version": 3
   },
   "file_extension": ".py",
   "mimetype": "text/x-python",
   "name": "python",
   "nbconvert_exporter": "python",
   "pygments_lexer": "ipython3",
   "version": "3.6.6"
  }
 },
 "nbformat": 4,
 "nbformat_minor": 2
}
