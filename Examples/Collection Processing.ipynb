{
 "cells": [
  {
   "cell_type": "code",
   "execution_count": 1,
   "metadata": {},
   "outputs": [
    {
     "name": "stdout",
     "output_type": "stream",
     "text": [
      "Using default NLTK tokenizer not english. Custom language tokenizers not available.\n"
     ]
    }
   ],
   "source": [
    "from sumy.nlp.stemmers import Stemmer\n",
    "from sumy.utils import get_stop_words\n",
    "from sumy.summarizers.lex_rank import LexRankSummarizer as Summarizer  # use this summarizer for naive metadata summary\n",
    "#\n",
    "from milnlp.collection.collection import Collection\n",
    "from milnlp.tokenizers import Tokenizer\n",
    "\n",
    "LANGUAGE = \"english\"\n",
    "stemmer = Stemmer(LANGUAGE)\n",
    "summarizer = Summarizer(stemmer)\n",
    "summarizer.stop_words = get_stop_words(LANGUAGE)\n",
    "token = Tokenizer(LANGUAGE)\n",
    "#\n",
    "term_frequency_threshold = 0.5  \n",
    "num_sentences = 8  # for composite summary\n",
    "#\n",
    "collectionpath = r\"C:\\Users\\zwelz3\\Documents\\GTRI_Projects\\ECCT_EW_EMS\\Market Research Sample\""
   ]
  },
  {
   "cell_type": "code",
   "execution_count": 2,
   "metadata": {
    "scrolled": true
   },
   "outputs": [
    {
     "name": "stdout",
     "output_type": "stream",
     "text": [
      "Processing collection at path ...\\Market Research Sample: \n",
      "\n",
      "\n",
      "Discovered directory 'Congested Spectrum'\n",
      "-> Discovered file 'Cognitive Radio.pdf'\n",
      "-> Discovered file 'Cognitive Radio.txt'\n",
      "-> Discovered file 'DARPA opens Shared Spectrum Access for Radar and Communications.pdf'\n",
      "-> Discovered file 'DARPA opens Shared Spectrum Access for Radar and Communications.txt'\n",
      "-> Discovered file 'DYSE.pdf'\n",
      "-> Discovered file 'DYSE.txt'\n",
      "-> Discovered file 'Electromagnetic spectrum sharing.pdf'\n",
      "-> Discovered file 'Electromagnetic spectrum sharing.txt'\n",
      "-> Discovered file 'ESCE for DEWSAR Feb 2018 v2 (FOUO).pdf'\n",
      "-> Discovered file 'ESCE for DEWSAR Feb 2018 v2 (FOUO).txt'\n",
      "-> Discovered file 'ESCE SOO.pdf'\n",
      "-> Discovered file 'ESCE SOO.txt'\n",
      "-> Discovered file 'SAIJ.pdf'\n",
      "-> Discovered file 'SAIJ.txt'\n",
      "-> Discovered file 'Summary - DARPA's Shared Spectrum Access for Radar and Communications.pdf'\n",
      "-> Discovered file 'Summary - DARPA's Shared Spectrum Access for Radar and Communications.txt'\n",
      "\n",
      "Discovered directory 'Hypersonic Weapons'\n",
      "-> Discovered file 'Army creating new POR for hypervelocity projectile.pdf'\n",
      "-> Discovered file 'Army creating new POR for hypervelocity projectile.txt'\n",
      "-> Discovered file 'DARPA Chief-National Hypersonics Needed - summary n source.pdf'\n",
      "-> Discovered file 'DARPA Chief-National Hypersonics Needed - summary n source.txt'\n",
      "-> Discovered file 'How Hypersonic Weapons Could Completely Change Face of War.pdf'\n",
      "-> Discovered file 'How Hypersonic Weapons Could Completely Change Face of War.txt'\n",
      "-> Discovered file 'Lockheed Martin tasked with developing hypersonic missiles.pdf'\n",
      "-> Discovered file 'Lockheed Martin tasked with developing hypersonic missiles.txt'\n",
      "-> Discovered file 'SCO aims to transition hypervelocity weapon next year.pdf'\n",
      "-> Discovered file 'SCO aims to transition hypervelocity weapon next year.txt'\n",
      "\n",
      "Total number of directories:  3\n",
      "Total number of files:  13 \n",
      "\n",
      "MDOC is up to date. Removing from processing list...\n",
      "C:\\Users\\zwelz3\\Documents\\GTRI_Projects\\ECCT_EW_EMS\\Market Research Sample\\Congested Spectrum\\Cognitive Radio.pdf\n",
      "MDOC is up to date. Removing from processing list...\n",
      "C:\\Users\\zwelz3\\Documents\\GTRI_Projects\\ECCT_EW_EMS\\Market Research Sample\\Hypersonic Weapons\\Army creating new POR for hypervelocity projectile.pdf\n",
      "MDOC is up to date. Removing from processing list...\n",
      "C:\\Users\\zwelz3\\Documents\\GTRI_Projects\\ECCT_EW_EMS\\Market Research Sample\\Congested Spectrum\\SAIJ.pdf\n",
      "MDOC is up to date. Removing from processing list...\n",
      "C:\\Users\\zwelz3\\Documents\\GTRI_Projects\\ECCT_EW_EMS\\Market Research Sample\\Congested Spectrum\\Summary - DARPA's Shared Spectrum Access for Radar and Communications.pdf\n",
      "MDOC is up to date. Removing from processing list...\n",
      "C:\\Users\\zwelz3\\Documents\\GTRI_Projects\\ECCT_EW_EMS\\Market Research Sample\\Congested Spectrum\\ESCE for DEWSAR Feb 2018 v2 (FOUO).pdf\n",
      "MDOC is up to date. Removing from processing list...\n",
      "C:\\Users\\zwelz3\\Documents\\GTRI_Projects\\ECCT_EW_EMS\\Market Research Sample\\Congested Spectrum\\ESCE SOO.pdf\n",
      "MDOC is up to date. Removing from processing list...\n",
      "C:\\Users\\zwelz3\\Documents\\GTRI_Projects\\ECCT_EW_EMS\\Market Research Sample\\Hypersonic Weapons\\How Hypersonic Weapons Could Completely Change Face of War.pdf\n",
      "MDOC is up to date. Removing from processing list...\n",
      "C:\\Users\\zwelz3\\Documents\\GTRI_Projects\\ECCT_EW_EMS\\Market Research Sample\\Congested Spectrum\\DARPA opens Shared Spectrum Access for Radar and Communications.pdf\n",
      "MDOC is up to date. Removing from processing list...\n",
      "C:\\Users\\zwelz3\\Documents\\GTRI_Projects\\ECCT_EW_EMS\\Market Research Sample\\Hypersonic Weapons\\SCO aims to transition hypervelocity weapon next year.pdf\n",
      "MDOC is up to date. Removing from processing list...\n",
      "C:\\Users\\zwelz3\\Documents\\GTRI_Projects\\ECCT_EW_EMS\\Market Research Sample\\Hypersonic Weapons\\Lockheed Martin tasked with developing hypersonic missiles.pdf\n",
      "MDOC is up to date. Removing from processing list...\n",
      "C:\\Users\\zwelz3\\Documents\\GTRI_Projects\\ECCT_EW_EMS\\Market Research Sample\\Congested Spectrum\\DYSE.pdf\n",
      "MDOC is up to date. Removing from processing list...\n",
      "C:\\Users\\zwelz3\\Documents\\GTRI_Projects\\ECCT_EW_EMS\\Market Research Sample\\Hypersonic Weapons\\DARPA Chief-National Hypersonics Needed - summary n source.pdf\n",
      "MDOC is up to date. Removing from processing list...\n",
      "C:\\Users\\zwelz3\\Documents\\GTRI_Projects\\ECCT_EW_EMS\\Market Research Sample\\Congested Spectrum\\Electromagnetic spectrum sharing.pdf\n",
      "============================\n",
      "  Processing Level 1\n",
      "============================\n",
      "Path:  C:\\Users\\zwelz3\\Documents\\GTRI_Projects\\ECCT_EW_EMS\\Market Research Sample\\Congested Spectrum\n",
      "File:  Congested Spectrum_lvl1.smdoc\n",
      "-> Adding MDOC:  Cognitive Radio.mdoc| Discovered 137 keywords.\n",
      "-> Adding MDOC:  DARPA opens Shared Spectrum Access for Radar and Communications.mdoc| Discovered 111 keywords.\n",
      "-> Adding MDOC:  DYSE.mdoc| Discovered 35 keywords.\n",
      "-> Adding MDOC:  Electromagnetic spectrum sharing.mdoc| Discovered 184 keywords.\n",
      "-> Adding MDOC:  ESCE for DEWSAR Feb 2018 v2 (FOUO).mdoc| Discovered 165 keywords.\n",
      "-> Adding MDOC:  ESCE SOO.mdoc| Discovered 252 keywords.\n",
      "-> Adding MDOC:  SAIJ.mdoc| Discovered 33 keywords.\n",
      "-> Adding MDOC:  Summary - DARPA's Shared Spectrum Access for Radar and Communications.mdoc| Discovered 39 keywords.\n",
      "Writing SMDOC:  C:\\Users\\zwelz3\\Documents\\GTRI_Projects\\ECCT_EW_EMS\\Market Research Sample\\Congested Spectrum\\Congested Spectrum_lvl1.smdoc \n",
      "\n",
      "SMDOC file created.\n",
      "Path:  C:\\Users\\zwelz3\\Documents\\GTRI_Projects\\ECCT_EW_EMS\\Market Research Sample\\Hypersonic Weapons\n",
      "File:  Hypersonic Weapons_lvl1.smdoc\n",
      "-> Adding MDOC:  Army creating new POR for hypervelocity projectile.mdoc| Discovered 69 keywords.\n",
      "-> Adding MDOC:  DARPA Chief-National Hypersonics Needed - summary n source.mdoc| Discovered 206 keywords.\n",
      "-> Adding MDOC:  How Hypersonic Weapons Could Completely Change Face of War.mdoc| Discovered 454 keywords.\n",
      "-> Adding MDOC:  Lockheed Martin tasked with developing hypersonic missiles.mdoc| Discovered 119 keywords.\n",
      "-> Adding MDOC:  SCO aims to transition hypervelocity weapon next year.mdoc| Discovered 100 keywords.\n",
      "Writing SMDOC:  C:\\Users\\zwelz3\\Documents\\GTRI_Projects\\ECCT_EW_EMS\\Market Research Sample\\Hypersonic Weapons\\Hypersonic Weapons_lvl1.smdoc \n",
      "\n",
      "SMDOC file created.\n",
      "============================\n",
      "  Processing Level 0\n",
      "============================\n",
      "Path:  C:\\Users\\zwelz3\\Documents\\GTRI_Projects\\ECCT_EW_EMS\\Market Research Sample\n",
      "File:  Market Research Sample_lvl0.smdoc\n",
      "-> Extracting from C:\\Users\\zwelz3\\Documents\\GTRI_Projects\\ECCT_EW_EMS\\Market Research Sample\\Congested Spectrum\\Congested Spectrum_lvl1.smdoc\n",
      "-> Extracting from C:\\Users\\zwelz3\\Documents\\GTRI_Projects\\ECCT_EW_EMS\\Market Research Sample\\Hypersonic Weapons\\Hypersonic Weapons_lvl1.smdoc\n",
      "Writing SMDOC:  C:\\Users\\zwelz3\\Documents\\GTRI_Projects\\ECCT_EW_EMS\\Market Research Sample\\Market Research Sample_lvl0.smdoc \n",
      "\n",
      "SMDOC file created.\n"
     ]
    }
   ],
   "source": [
    "cobj = Collection(collectionpath)\n",
    "# at this point, the collection object is just a path container\n",
    "cobj.process_collection()\n",
    "# at this point, the collection object contains a list of all files in the collection (full paths) \n",
    "#    and a list of directories at their respective levels (i.e. 0 == top level) \n",
    "cobj.generate_metadata(summarizer, token, term_frequency_threshold)\n",
    "# at this point, all the (super)metadata files are created and populated for the collection"
   ]
  },
  {
   "cell_type": "code",
   "execution_count": 3,
   "metadata": {
    "scrolled": true
   },
   "outputs": [
    {
     "name": "stdout",
     "output_type": "stream",
     "text": [
      "Performing union query...\n",
      "Done!\n"
     ]
    },
    {
     "data": {
      "text/plain": [
       "({'hypersonic': {'C:\\\\Users\\\\zwelz3\\\\Documents\\\\GTRI_Projects\\\\ECCT_EW_EMS\\\\Market Research Sample\\\\Hypersonic Weapons\\\\DARPA Chief-National Hypersonics Needed - summary n source.txt': {1,\n",
       "    2,\n",
       "    3},\n",
       "   'C:\\\\Users\\\\zwelz3\\\\Documents\\\\GTRI_Projects\\\\ECCT_EW_EMS\\\\Market Research Sample\\\\Hypersonic Weapons\\\\How Hypersonic Weapons Could Completely Change Face of War.txt': {1,\n",
       "    2,\n",
       "    3,\n",
       "    4,\n",
       "    5},\n",
       "   'C:\\\\Users\\\\zwelz3\\\\Documents\\\\GTRI_Projects\\\\ECCT_EW_EMS\\\\Market Research Sample\\\\Hypersonic Weapons\\\\Lockheed Martin tasked with developing hypersonic missiles.txt': {1,\n",
       "    2}},\n",
       "  'hypervelocity': {'C:\\\\Users\\\\zwelz3\\\\Documents\\\\GTRI_Projects\\\\ECCT_EW_EMS\\\\Market Research Sample\\\\Hypersonic Weapons\\\\SCO aims to transition hypervelocity weapon next year.txt': {1,\n",
       "    2},\n",
       "   'C:\\\\Users\\\\zwelz3\\\\Documents\\\\GTRI_Projects\\\\ECCT_EW_EMS\\\\Market Research Sample\\\\Hypersonic Weapons\\\\Army creating new POR for hypervelocity projectile.txt': {1}}},\n",
       " 'union')"
      ]
     },
     "execution_count": 3,
     "metadata": {},
     "output_type": "execute_result"
    }
   ],
   "source": [
    "# Make queries independent of the summary, returns the results and the method (union or intersect)\n",
    "cobj.make_query([(\"hypersonic\",),(\"hypervelocity\",)])"
   ]
  },
  {
   "cell_type": "code",
   "execution_count": 4,
   "metadata": {},
   "outputs": [],
   "source": [
    "#query = [(\"hypersonic\",),(\"hypervelocity\",)]  # example union query\n",
    "query = [[(\"hypersonic\",),(\"hypervelocity\",)],[('American',)]]  # example intersect query\n",
    "#query = [(\"predictable\",)]  # example reduced query"
   ]
  },
  {
   "cell_type": "markdown",
   "metadata": {},
   "source": [
    "### Create composite document with specified resolution (i.e. document or page)"
   ]
  },
  {
   "cell_type": "code",
   "execution_count": 5,
   "metadata": {},
   "outputs": [
    {
     "name": "stdout",
     "output_type": "stream",
     "text": [
      "Performing intersect query...\n",
      "Number of files matching all queries up to and including query #1:  5\n",
      "Number of files matching all queries up to and including query #2:  2\n",
      "Done!\n"
     ]
    },
    {
     "data": {
      "text/plain": [
       "({'C:\\\\Users\\\\zwelz3\\\\Documents\\\\GTRI_Projects\\\\ECCT_EW_EMS\\\\Market Research Sample\\\\Hypersonic Weapons\\\\Lockheed Martin tasked with developing hypersonic missiles.txt': {1,\n",
       "   2},\n",
       "  'C:\\\\Users\\\\zwelz3\\\\Documents\\\\GTRI_Projects\\\\ECCT_EW_EMS\\\\Market Research Sample\\\\Hypersonic Weapons\\\\How Hypersonic Weapons Could Completely Change Face of War.txt': {1,\n",
       "   2,\n",
       "   4}},\n",
       " 'intersect')"
      ]
     },
     "execution_count": 5,
     "metadata": {},
     "output_type": "execute_result"
    }
   ],
   "source": [
    "cobj.make_query(query)"
   ]
  },
  {
   "cell_type": "code",
   "execution_count": 6,
   "metadata": {},
   "outputs": [
    {
     "name": "stdout",
     "output_type": "stream",
     "text": [
      "Performing intersect query...\n",
      "Number of files matching all queries up to and including query #1:  5\n",
      "Number of files matching all queries up to and including query #2:  2\n",
      "Done!\n",
      "Creating a composite document using the full constituent documents...\n",
      " - Reading in file 1/2\n",
      " - Reading in file 2/2\n",
      "Done!\n",
      "Using method 'full' results in:  <DOM with 119 paragraphs>\n",
      "\n",
      "Performing intersect query...\n",
      "Number of files matching all queries up to and including query #1:  5\n",
      "Number of files matching all queries up to and including query #2:  2\n",
      "Done!\n",
      "Creating a composite document using only the relevant pages from constituent documents...\n",
      " - Reading in file 1/2\n",
      "  -> Matching pages: {1, 2}\n",
      " - Reading in file 2/2\n",
      "  -> Matching pages: {1, 2, 4}\n",
      "Done!\n",
      "Using method 'reduced' results in:  <DOM with 84 paragraphs>\n"
     ]
    }
   ],
   "source": [
    "method = \"full\"  # reduced=page appearance only, full=entire document\n",
    "composite_doc_full = cobj.create_composite_document(query, token, method=method)\n",
    "print(f\"Using method '{method}' results in: \", composite_doc_full)\n",
    "\n",
    "print('')\n",
    "\n",
    "method = \"reduced\"  # reduced=page appearance only, full=entire document\n",
    "composite_doc_reduced = cobj.create_composite_document(query, token, method=method)\n",
    "print(f\"Using method '{method}' results in: \", composite_doc_reduced)"
   ]
  },
  {
   "cell_type": "markdown",
   "metadata": {},
   "source": [
    "### Create summary with different composite documents"
   ]
  },
  {
   "cell_type": "code",
   "execution_count": 7,
   "metadata": {},
   "outputs": [],
   "source": [
    "import time"
   ]
  },
  {
   "cell_type": "code",
   "execution_count": 8,
   "metadata": {},
   "outputs": [
    {
     "name": "stdout",
     "output_type": "stream",
     "text": [
      "Time to generate summary of full composite document:  0.45433950424194336\n",
      "*  While the United States has worked in the past with Australia on experimental hypersonic missile  platforms, it seems only now, as the threat posed by the nations competitors is already at hand, that  the Defense Department is ready to seriously pursue the development of Americas own  technological response.\n",
      "*  This is the  potential threat posed by so-called hypersonic weapons, which can fly as fast as a mile a  second and low enough to evade many existing defenses\n",
      "*  On May 30, 2017, the U.S.\n",
      "*  But more importantly, this air-breathing engine generates a very different signature from a rocket  motor, meaning space-based surveillance assets might not be able to spot one as quickly or keep  tracking it during flight, or even spot it at all for that matter.\n",
      "*  All of these features have made the concept attractive within the Pentagon, as potential  opponents field increasingly more powerful radars, surface-to-air and air-to-air missiles, and  other weapons that could deny existing, more conventional American military forces from  getting close to their objective in the first place.\n",
      "*  In a series of flight tests  between 2010 and 2013, the U.S.\n",
      "*  These new weapons are capable of traveling more than a mile  per second and fly at flat or non-ballistic trajectories to prevent our missile defense systems from  tracking them.\n",
      "*  With the results of things like the Air Force study in May 2017, the Pentagon is well aware of the  potential threat and is looking to take concrete steps toward mitigating it.\n",
      "\n",
      "Time to generate summary of reduced composite document:  0.22043156623840332\n",
      "*  Among other things, this development is  forcing a dramatic reimagining of how Americas aircraft carriers could be used in a conflict with  either nation, as the range and sheer indefensibility of these missiles would make bringing a carrier  close enough to launch sorties a suicide mission\n",
      "*  While the United States has worked in the past with Australia on experimental hypersonic missile  platforms, it seems only now, as the threat posed by the nations competitors is already at hand, that  the Defense Department is ready to seriously pursue the development of Americas own  technological response.\n",
      "*  Because Americas carrier-based aircraft have a fuel range of only around 500 miles and Chinas  hypersonic anti-ship missile ranges can exceed a thousand, an aircraft launched hypersonic missile  could allow American fighters an opportunity to engage anti-ship missile platforms from the air,  without bringing the carriers themselves within range.\n",
      "*  This is the  potential threat posed by so-called hypersonic weapons, which can fly as fast as a mile a  second and low enough to evade many existing defenses\n",
      "*  Though there is much attention given to the expanding threat of ballistic missiles, especially  from countries such as Iran and North Korea, American military officials are increasingly  concerned about hypersonic weapons.\n",
      "*  On May 30, 2017, the U.S.\n",
      "*  But more importantly, this air-breathing engine generates a very different signature from a rocket  motor, meaning space-based surveillance assets might not be able to spot one as quickly or keep  tracking it during flight, or even spot it at all for that matter.\n",
      "*  All of these features have made the concept attractive within the Pentagon, as potential  opponents field increasingly more powerful radars, surface-to-air and air-to-air missiles, and  other weapons that could deny existing, more conventional American military forces from  getting close to their objective in the first place.\n"
     ]
    }
   ],
   "source": [
    "from sumy.summarizers.lex_rank import LexRankSummarizer as Summarizer  # use this summarizer for naive metadata summary\n",
    "summarizer = Summarizer(stemmer)\n",
    "\n",
    "st = time.time()\n",
    "full_summary = cobj.summarize_composite(composite_doc_full, summarizer, num_sentences)\n",
    "et = time.time()-st\n",
    "print(\"Time to generate summary of full composite document: \", et)\n",
    "for sentence in full_summary:\n",
    "    print('* ', sentence._text)\n",
    "\n",
    "print('')\n",
    "\n",
    "st = time.time()\n",
    "reduced_summary = cobj.summarize_composite(composite_doc_reduced, summarizer, num_sentences)\n",
    "et = time.time()-st\n",
    "print(\"Time to generate summary of reduced composite document: \", et)\n",
    "for sentence in reduced_summary:\n",
    "    print('* ', sentence._text)"
   ]
  },
  {
   "cell_type": "code",
   "execution_count": 9,
   "metadata": {},
   "outputs": [
    {
     "name": "stdout",
     "output_type": "stream",
     "text": [
      "Time to generate summary of full composite document:  0.19649434089660645\n",
      "*  Though there is much attention given to the expanding threat of ballistic missiles, especially  from countries such as Iran and North Korea, American military officials are increasingly  concerned about hypersonic weapons.\n",
      "*  As the name suggests,  these missiles largely follow a ballistic arc, boosting very high up before falling back down on  their target.\n",
      "*  Hypersonic weapons could be the key to  breaking through these protective layers, including knocking down an enemy's integrated air\n",
      "*  Air Force launched Boeing's X-51 Waverider experimental  hypersonic aircraft from a decidedly dated and non-stealthy B-52H bomber.\n",
      "*  XS-1,  or  more  likely  a  production  craft  that  springs  from  it,  couldn't  be  used  for  deploying  suborbital hypersonic payloads, possibly on short notice.\n",
      "*  We estimate it will cost less than $1 billion to develop, build  and fly a demonstrator aircraft the size of an F-22.\n",
      "*  On June 5, 2017, Norris reported that Skunk Works head Rob Weiss had declared hypersonic  technology mature in comments at the 2017 American Institute of Aeronautics and\n",
      "*  These new weapons are capable of traveling more than a mile  per second and fly at flat or non-ballistic trajectories to prevent our missile defense systems from  tracking them.\n",
      "\n",
      "Time to generate summary of reduced composite document:  0.11769556999206543\n",
      "*  Once the anti-ship defenses had been  neutralized, carrier strike groups could close in for a more conventional assault\n",
      "*  Though there is much attention given to the expanding threat of ballistic missiles, especially  from countries such as Iran and North Korea, American military officials are increasingly  concerned about hypersonic weapons.\n",
      "*  As the name suggests,  these missiles largely follow a ballistic arc, boosting very high up before falling back down on  their target.\n",
      "*  But more importantly, this air-breathing engine generates a very different signature from a rocket  motor, meaning space-based surveillance assets might not be able to spot one as quickly or keep  tracking it during flight, or even spot it at all for that matter.\n",
      "*  Hypersonic weapons could be the key to  breaking through these protective layers, including knocking down an enemy's integrated air\n",
      "*  XS-1,  or  more  likely  a  production  craft  that  springs  from  it,  couldn't  be  used  for  deploying  suborbital hypersonic payloads, possibly on short notice.\n",
      "*  We estimate it will cost less than $1 billion to develop, build  and fly a demonstrator aircraft the size of an F-22.\n",
      "*  On June 5, 2017, Norris reported that Skunk Works head Rob Weiss had declared hypersonic  technology mature in comments at the 2017 American Institute of Aeronautics and\n"
     ]
    }
   ],
   "source": [
    "from sumy.summarizers.lsa import LsaSummarizer as Summarizer  # use this summarizer for naive metadata summary\n",
    "summarizer = Summarizer(stemmer)\n",
    "\n",
    "st = time.time()\n",
    "full_summary = cobj.summarize_composite(composite_doc_full, summarizer, num_sentences)\n",
    "et = time.time()-st\n",
    "print(\"Time to generate summary of full composite document: \", et)\n",
    "for sentence in full_summary:\n",
    "    print('* ', sentence._text)\n",
    "\n",
    "print('')\n",
    "\n",
    "st = time.time()\n",
    "reduced_summary = cobj.summarize_composite(composite_doc_reduced, summarizer, num_sentences)\n",
    "et = time.time()-st\n",
    "print(\"Time to generate summary of reduced composite document: \", et)\n",
    "for sentence in reduced_summary:\n",
    "    print('* ', sentence._text)"
   ]
  },
  {
   "cell_type": "code",
   "execution_count": 10,
   "metadata": {},
   "outputs": [
    {
     "name": "stdout",
     "output_type": "stream",
     "text": [
      "Time to generate summary of full composite document:  0.03788948059082031\n",
      "*  Lockheed Martin tasked with billion dollar initiative to  develop American hypersonic missiles\n",
      "*  By Alex Hollings 04.25.2018   https://sofrep.com/102418/lockheed-martin-tasked-with-billion-dollar-initiative-to-develop- american-hypersonic-missiles/\n",
      "*  Last month, Russian President Vladimir Putin delivered a national address that included talk about a  number of new missile platforms the Russian military is rapidly fielding.\n",
      "*  For defense analysts, none  of the missiles he discussed were particularly new, as most were actually leftover Cold War era  projects the Kremlin only recently put into production  but one type of missile technology was  different.\n",
      "*  While many of the platforms Putin discussed offered strategic novelty moreso than  functionality, hypersonic missile platforms really do pose a threat to Americas defensive apparatus\n",
      "*  Russia isnt the only nation working to field missiles that can exceed the Mach 5 barrier into\n",
      "*  hypersonic speeds  China has their own programs with similar aims  and both nations already  have combat capable hypersonic missile applications.\n",
      "*  Among other things, this development is  forcing a dramatic reimagining of how Americas aircraft carriers could be used in a conflict with  either nation, as the range and sheer indefensibility of these missiles would make bringing a carrier  close enough to launch sorties a suicide mission\n",
      "\n",
      "Time to generate summary of reduced composite document:  0.025481462478637695\n",
      "*  Lockheed Martin tasked with billion dollar initiative to  develop American hypersonic missiles\n",
      "*  By Alex Hollings 04.25.2018   https://sofrep.com/102418/lockheed-martin-tasked-with-billion-dollar-initiative-to-develop- american-hypersonic-missiles/\n",
      "*  Last month, Russian President Vladimir Putin delivered a national address that included talk about a  number of new missile platforms the Russian military is rapidly fielding.\n",
      "*  For defense analysts, none  of the missiles he discussed were particularly new, as most were actually leftover Cold War era  projects the Kremlin only recently put into production  but one type of missile technology was  different.\n",
      "*  While many of the platforms Putin discussed offered strategic novelty moreso than  functionality, hypersonic missile platforms really do pose a threat to Americas defensive apparatus\n",
      "*  Russia isnt the only nation working to field missiles that can exceed the Mach 5 barrier into\n",
      "*  hypersonic speeds  China has their own programs with similar aims  and both nations already  have combat capable hypersonic missile applications.\n",
      "*  Among other things, this development is  forcing a dramatic reimagining of how Americas aircraft carriers could be used in a conflict with  either nation, as the range and sheer indefensibility of these missiles would make bringing a carrier  close enough to launch sorties a suicide mission\n"
     ]
    }
   ],
   "source": [
    "from sumy.summarizers.edmundson_cue import EdmundsonCueMethod as Summarizer\n",
    "bonus_words = set()\n",
    "stigma_words = set()  # I do not want passive (i.e. active)\n",
    "summarizer = Summarizer(stemmer,bonus_words,stigma_words)\n",
    "\n",
    "\n",
    "st = time.time()\n",
    "full_summary = cobj.summarize_composite(composite_doc_full, summarizer, num_sentences, 5, -1)\n",
    "et = time.time()-st\n",
    "print(\"Time to generate summary of full composite document: \", et)\n",
    "for sentence in full_summary:\n",
    "    print('* ', sentence._text)\n",
    "\n",
    "print('')\n",
    "\n",
    "st = time.time()\n",
    "reduced_summary = cobj.summarize_composite(composite_doc_reduced, summarizer, num_sentences, 5, -1)\n",
    "et = time.time()-st\n",
    "print(\"Time to generate summary of reduced composite document: \", et)\n",
    "for sentence in reduced_summary:\n",
    "    print('* ', sentence._text)"
   ]
  }
 ],
 "metadata": {
  "kernelspec": {
   "display_name": "Python [conda env:ecct]",
   "language": "python",
   "name": "conda-env-ecct-py"
  },
  "language_info": {
   "codemirror_mode": {
    "name": "ipython",
    "version": 3
   },
   "file_extension": ".py",
   "mimetype": "text/x-python",
   "name": "python",
   "nbconvert_exporter": "python",
   "pygments_lexer": "ipython3",
   "version": "3.6.6"
  }
 },
 "nbformat": 4,
 "nbformat_minor": 2
}
