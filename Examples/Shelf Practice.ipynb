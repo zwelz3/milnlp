{
 "cells": [
  {
   "cell_type": "code",
   "execution_count": 11,
   "metadata": {},
   "outputs": [],
   "source": [
    "class setContainer(object):\n",
    "    def __init__(self, name, inst_set):\n",
    "        self.contents = inst_set\n",
    "        self.name = name\n",
    "        \n",
    "        \n",
    "c1 = setContainer('c1', {1,2,3})\n",
    "c2 = setContainer('c2', {2,3,4})"
   ]
  },
  {
   "cell_type": "code",
   "execution_count": 12,
   "metadata": {},
   "outputs": [
    {
     "data": {
      "text/plain": [
       "{'contents': {1, 2, 3}, 'name': 'c1'}"
      ]
     },
     "execution_count": 12,
     "metadata": {},
     "output_type": "execute_result"
    }
   ],
   "source": [
    "c1.__dict__"
   ]
  },
  {
   "cell_type": "code",
   "execution_count": 13,
   "metadata": {},
   "outputs": [
    {
     "data": {
      "text/plain": [
       "{'contents': {2, 3, 4}, 'name': 'c2'}"
      ]
     },
     "execution_count": 13,
     "metadata": {},
     "output_type": "execute_result"
    }
   ],
   "source": [
    "c2.__dict__"
   ]
  },
  {
   "cell_type": "code",
   "execution_count": 14,
   "metadata": {},
   "outputs": [
    {
     "name": "stdout",
     "output_type": "stream",
     "text": [
      "Adding container c1 to the shelf.\n",
      "Adding container c2 to the shelf.\n"
     ]
    }
   ],
   "source": [
    "import shelve\n",
    "\n",
    "## Write to shelve\n",
    "with shelve.open('./obj/query_shelf_tmp', 'c') as shelf:\n",
    "    print(f\"Adding container {c1.name} to the shelf.\")\n",
    "    shelf[c1.name] = c1\n",
    "    print(f\"Adding container {c2.name} to the shelf.\")\n",
    "    shelf[c2.name] = c2"
   ]
  },
  {
   "cell_type": "code",
   "execution_count": 15,
   "metadata": {},
   "outputs": [
    {
     "name": "stdout",
     "output_type": "stream",
     "text": [
      "'c1' <__main__.setContainer object at 0x00000153DD8177F0>\n",
      "'c2' <__main__.setContainer object at 0x00000153DD8171D0>\n"
     ]
    }
   ],
   "source": [
    "import shelve\n",
    "\n",
    "with shelve.open('./obj/query_shelf_tmp', 'r') as shelf:\n",
    "    for key in shelf.keys():\n",
    "        print(repr(key), repr(shelf[key]))\n",
    "        ex = shelf[key]"
   ]
  },
  {
   "cell_type": "code",
   "execution_count": 21,
   "metadata": {},
   "outputs": [
    {
     "data": {
      "text/plain": [
       "{'contents': {2, 3, 4}, 'name': 'c2'}"
      ]
     },
     "execution_count": 21,
     "metadata": {},
     "output_type": "execute_result"
    }
   ],
   "source": [
    "ex.__dict__"
   ]
  },
  {
   "cell_type": "code",
   "execution_count": 23,
   "metadata": {},
   "outputs": [
    {
     "data": {
      "text/plain": [
       "{'contents': {3, 4, 5}, 'name': 'c2'}"
      ]
     },
     "execution_count": 23,
     "metadata": {},
     "output_type": "execute_result"
    }
   ],
   "source": [
    "ex.__dict__"
   ]
  },
  {
   "cell_type": "code",
   "execution_count": 24,
   "metadata": {},
   "outputs": [
    {
     "name": "stdout",
     "output_type": "stream",
     "text": [
      "Updating container c2 on the shelf.\n"
     ]
    }
   ],
   "source": [
    "## Write to shelve\n",
    "with shelve.open('./obj/query_shelf_tmp', 'c') as shelf:\n",
    "    print(f\"Updating container {ex.name} on the shelf.\")\n",
    "    shelf[ex.name] = ex"
   ]
  },
  {
   "cell_type": "code",
   "execution_count": 25,
   "metadata": {},
   "outputs": [
    {
     "name": "stdout",
     "output_type": "stream",
     "text": [
      "'c1' <__main__.setContainer object at 0x00000153DD8166A0>\n",
      "'c2' <__main__.setContainer object at 0x00000153DD816908>\n"
     ]
    }
   ],
   "source": [
    "with shelve.open('./obj/query_shelf_tmp', 'r') as shelf:\n",
    "    for key in shelf.keys():\n",
    "        print(repr(key), repr(shelf[key]))\n",
    "        ex = shelf[key]"
   ]
  },
  {
   "cell_type": "code",
   "execution_count": null,
   "metadata": {},
   "outputs": [],
   "source": []
  }
 ],
 "metadata": {
  "kernelspec": {
   "display_name": "Python [conda env:ecct]",
   "language": "python",
   "name": "conda-env-ecct-py"
  },
  "language_info": {
   "codemirror_mode": {
    "name": "ipython",
    "version": 3
   },
   "file_extension": ".py",
   "mimetype": "text/x-python",
   "name": "python",
   "nbconvert_exporter": "python",
   "pygments_lexer": "ipython3",
   "version": "3.6.6"
  }
 },
 "nbformat": 4,
 "nbformat_minor": 2
}
