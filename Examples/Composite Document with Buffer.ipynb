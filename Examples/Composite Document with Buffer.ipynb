{
 "cells": [
  {
   "cell_type": "code",
   "execution_count": 1,
   "metadata": {},
   "outputs": [
    {
     "name": "stdout",
     "output_type": "stream",
     "text": [
      "Using default NLTK tokenizer not english. Custom language tokenizers not available.\n"
     ]
    }
   ],
   "source": [
    "from sumy.nlp.stemmers import Stemmer\n",
    "from sumy.utils import get_stop_words\n",
    "from sumy.summarizers.lex_rank import LexRankSummarizer as Summarizer  # use this summarizer for naive metadata summary\n",
    "#\n",
    "from milnlp.tokenizers import Tokenizer\n",
    "from milnlp.collection.collection import Collection\n",
    "\n",
    "LANGUAGE = \"english\"\n",
    "stemmer = Stemmer(LANGUAGE)\n",
    "summarizer = Summarizer(stemmer)\n",
    "summarizer.stop_words = get_stop_words(LANGUAGE)\n",
    "token = Tokenizer(LANGUAGE)\n",
    "#\n",
    "term_frequency_threshold = 0.5  \n",
    "num_sentences = 8  # for composite summary\n",
    "#\n",
    "collectionpath = r\"C:\\Users\\zwelz3\\Documents\\GTRI_Projects\\ECCT_EW_EMS\\Market Research Sample\""
   ]
  },
  {
   "cell_type": "code",
   "execution_count": 2,
   "metadata": {},
   "outputs": [
    {
     "name": "stdout",
     "output_type": "stream",
     "text": [
      "\n",
      "Discovered directory 'Congested Spectrum'\n",
      "-> Discovered file 'Cognitive Radio.pdf'\n",
      "-> Discovered file 'Cognitive Radio.txt'\n",
      "-> Discovered file 'DARPA opens Shared Spectrum Access for Radar and Communications.pdf'\n",
      "-> Discovered file 'DARPA opens Shared Spectrum Access for Radar and Communications.txt'\n",
      "-> Discovered file 'DYSE.pdf'\n",
      "-> Discovered file 'DYSE.txt'\n",
      "-> Discovered file 'Electromagnetic spectrum sharing.pdf'\n",
      "-> Discovered file 'Electromagnetic spectrum sharing.txt'\n",
      "-> Discovered file 'ESCE for DEWSAR Feb 2018 v2 (FOUO).pdf'\n",
      "-> Discovered file 'ESCE for DEWSAR Feb 2018 v2 (FOUO).txt'\n",
      "-> Discovered file 'ESCE SOO.pdf'\n",
      "-> Discovered file 'ESCE SOO.txt'\n",
      "-> Discovered file 'SAIJ.pdf'\n",
      "-> Discovered file 'SAIJ.txt'\n",
      "-> Discovered file 'Summary - DARPA's Shared Spectrum Access for Radar and Communications.pdf'\n",
      "-> Discovered file 'Summary - DARPA's Shared Spectrum Access for Radar and Communications.txt'\n",
      "\n",
      "Discovered directory 'Hypersonic Weapons'\n",
      "-> Discovered file 'Army creating new POR for hypervelocity projectile.pdf'\n",
      "-> Discovered file 'Army creating new POR for hypervelocity projectile.txt'\n",
      "-> Discovered file 'DARPA Chief-National Hypersonics Needed - summary n source.pdf'\n",
      "-> Discovered file 'DARPA Chief-National Hypersonics Needed - summary n source.txt'\n",
      "-> Discovered file 'How Hypersonic Weapons Could Completely Change Face of War.pdf'\n",
      "-> Discovered file 'How Hypersonic Weapons Could Completely Change Face of War.txt'\n",
      "-> Discovered file 'Lockheed Martin tasked with developing hypersonic missiles.pdf'\n",
      "-> Discovered file 'Lockheed Martin tasked with developing hypersonic missiles.txt'\n",
      "-> Discovered file 'SCO aims to transition hypervelocity weapon next year.pdf'\n",
      "-> Discovered file 'SCO aims to transition hypervelocity weapon next year.txt'\n"
     ]
    }
   ],
   "source": [
    "from milnlp.collection.collection import get_items\n",
    "\n",
    "cobj = Collection(collectionpath)\n",
    "cobj.flist, cobj.dlist = get_items(collectionpath, set(), {collectionpath: 0})"
   ]
  },
  {
   "cell_type": "code",
   "execution_count": 3,
   "metadata": {},
   "outputs": [],
   "source": [
    "#query = [(\"hypersonic\",),(\"hypervelocity\",)]  # example union query\n",
    "query = [[(\"hypersonic\",),(\"hypervelocity\",)],[('American',)]]  # example intersect query\n",
    "#query = [(\"predictable\",)]  # example reduced query"
   ]
  },
  {
   "cell_type": "code",
   "execution_count": 4,
   "metadata": {},
   "outputs": [
    {
     "name": "stdout",
     "output_type": "stream",
     "text": [
      "Performing intersect query...\n",
      "Number of files matching all queries up to and including query #1:  5\n",
      "Number of files matching all queries up to and including query #2:  2\n",
      "Done!\n"
     ]
    },
    {
     "data": {
      "text/plain": [
       "({'C:\\\\Users\\\\zwelz3\\\\Documents\\\\GTRI_Projects\\\\ECCT_EW_EMS\\\\Market Research Sample\\\\Hypersonic Weapons\\\\How Hypersonic Weapons Could Completely Change Face of War.txt': {1,\n",
       "   2,\n",
       "   4},\n",
       "  'C:\\\\Users\\\\zwelz3\\\\Documents\\\\GTRI_Projects\\\\ECCT_EW_EMS\\\\Market Research Sample\\\\Hypersonic Weapons\\\\Lockheed Martin tasked with developing hypersonic missiles.txt': {1,\n",
       "   2}},\n",
       " 'intersect')"
      ]
     },
     "execution_count": 4,
     "metadata": {},
     "output_type": "execute_result"
    }
   ],
   "source": [
    "cobj.make_query(query)"
   ]
  },
  {
   "cell_type": "markdown",
   "metadata": {},
   "source": [
    "### Create composite document with specified resolution (i.e. document or page)"
   ]
  },
  {
   "cell_type": "code",
   "execution_count": 5,
   "metadata": {},
   "outputs": [
    {
     "name": "stdout",
     "output_type": "stream",
     "text": [
      "Performing intersect query...\n",
      "Number of files matching all queries up to and including query #1:  5\n",
      "Number of files matching all queries up to and including query #2:  2\n",
      "Done!\n",
      "Creating a composite document using the full constituent documents...\n",
      " - Reading in file 1/2\n",
      " - Reading in file 2/2\n",
      "Done!\n",
      "Using method 'full' results in:  <DOM with 82 paragraphs>\n",
      "\n",
      "Performing intersect query...\n",
      "Number of files matching all queries up to and including query #1:  5\n",
      "Number of files matching all queries up to and including query #2:  2\n",
      "Done!\n",
      "Creating a composite document using only the relevant pages from constituent documents...\n",
      " - Reading in file 1/2\n",
      "  -> Matching pages: {1, 2, 4}\n",
      " - Reading in file 2/2\n",
      "  -> Matching pages: {1, 2}\n",
      "Done!\n",
      "Using method 'reduced' results in:  <DOM with 59 paragraphs>\n",
      "\n",
      "Performing intersect query...\n",
      "Number of files matching all queries up to and including query #1:  5\n",
      "Number of files matching all queries up to and including query #2:  2\n",
      "Done!\n",
      "Creating a composite document using only the relevant pages from constituent documents...\n",
      "Applying a sentence buffer of size 4\n",
      " - Reading in file 1/2\n",
      "  -> Matching pages: {1, 2, 4}\n",
      " - Reading in file 2/2\n",
      "  -> Matching pages: {1, 2}\n",
      "Done!\n",
      "Using method 'reduced' results in:  <DOM with 66 paragraphs>\n"
     ]
    }
   ],
   "source": [
    "method = \"full\"  # reduced=page appearance only, full=entire document\n",
    "composite_doc_full = cobj.create_composite_document(query, token, method=method)\n",
    "print(f\"Using method '{method}' results in: \", composite_doc_full)\n",
    "\n",
    "print('')\n",
    "\n",
    "method = \"reduced\"  # reduced=page appearance only, full=entire document\n",
    "composite_doc_reduced = cobj.create_composite_document(query, token, method=method)\n",
    "print(f\"Using method '{method}' results in: \", composite_doc_reduced)\n",
    "\n",
    "print('')\n",
    "\n",
    "method = \"reduced\"  # reduced=page appearance only, full=entire document\n",
    "composite_doc_reducedw_buffer = cobj.create_composite_document(query, token, method=method, buffer_size=4)\n",
    "print(f\"Using method '{method}' results in: \", composite_doc_reducedw_buffer)"
   ]
  },
  {
   "cell_type": "code",
   "execution_count": 6,
   "metadata": {},
   "outputs": [
    {
     "name": "stdout",
     "output_type": "stream",
     "text": [
      "Time to generate summary of reduced composite document:  0.14163613319396973\n",
      "*  Now, imagine you have less than 15 minutes to react and may not even see their missile coming in the first place.\n",
      "*  Though there is much attention given to the expanding threat of ballistic missiles, especially from countries such as Iran and North Korea, American military officials are increasingly concerned about hypersonic weapons.\n",
      "*  As the name suggests, these missiles largely follow a ballistic arc, boosting very high up before falling back down on their target.\n",
      "*  We estimate it will cost less than $1 billion to develop, build and fly a demonstrator aircraft the size of an F-22.\n",
      "*  Between January 2014 and April 2016, China conducted six flight tests of its own DF-ZF hypersonic glide vehicle.\n",
      "*  Lockheed Martin tasked with billion dollar initiative to develop American hypersonic missiles  By Alex Hollings 04.25.2018      Last month, Russian President Vladimir Putin delivered a national address that included talk about a number of new missile platforms the Russian military is rapidly fielding.\n",
      "*  Specifically, an air-launched hypersonic platform that could help offset the operational gap presented Russian and Chinese missiles.\n",
      "*  Once the anti-ship defenses had been neutralized, carrier strike groups could close in for a more conventional assault.\n",
      "\n",
      "\n",
      "\n",
      "Time to generate summary of reduced composite document w/ buffer:  0.19348430633544922\n",
      "*  Now, imagine you have less than 15 minutes to react and may not even see their missile coming in the first place.\n",
      "*  Though there is much attention given to the expanding threat of ballistic missiles, especially from countries such as Iran and North Korea, American military officials are increasingly concerned about hypersonic weapons.\n",
      "*  As the name suggests, these missiles largely follow a ballistic arc, boosting very high up before falling back down on their target.\n",
      "*  There's nothing to say this couldn't potentially be sensors or weapons rather than more benign objects..\n",
      "*  We estimate it will cost less than $1 billion to develop, build and fly a demonstrator aircraft the size of an F-22.\n",
      "*  These new weapons are capable of traveling more than a mile per second and fly at flat or non-ballistic trajectories to prevent our missile defense systems from tracking them.\n",
      "*  Specifically, an air-launched hypersonic platform that could help offset the operational gap presented Russian and Chinese missiles.\n",
      "*  Once the anti-ship defenses had been neutralized, carrier strike groups could close in for a more conventional assault.\n"
     ]
    }
   ],
   "source": [
    "import time\n",
    "from sumy.summarizers.lsa import LsaSummarizer as Summarizer  # use this summarizer for naive metadata summary\n",
    "summarizer = Summarizer(stemmer)\n",
    "\n",
    "st = time.time()\n",
    "reduced_summary = cobj.summarize_composite(composite_doc_reduced, summarizer, num_sentences)\n",
    "et = time.time()-st\n",
    "print(\"Time to generate summary of reduced composite document: \", et)\n",
    "for sentence in reduced_summary:\n",
    "    print('* ', sentence._text)\n",
    "    \n",
    "print(\"\\n\\n\")\n",
    "    \n",
    "st = time.time()\n",
    "reduced_summary = cobj.summarize_composite(composite_doc_reducedw_buffer, summarizer, num_sentences)\n",
    "et = time.time()-st\n",
    "print(\"Time to generate summary of reduced composite document w/ buffer: \", et)\n",
    "for sentence in reduced_summary:\n",
    "    print('* ', sentence._text)"
   ]
  },
  {
   "cell_type": "code",
   "execution_count": 9,
   "metadata": {},
   "outputs": [
    {
     "data": {
      "text/plain": [
       "'These new weapons are capable of traveling more than a mile per second and fly at flat or non-ballistic trajectories to prevent our missile defense systems from tracking them.'"
      ]
     },
     "execution_count": 9,
     "metadata": {},
     "output_type": "execute_result"
    }
   ],
   "source": [
    "str(reduced_summary[5])"
   ]
  },
  {
   "cell_type": "code",
   "execution_count": null,
   "metadata": {},
   "outputs": [],
   "source": []
  }
 ],
 "metadata": {
  "kernelspec": {
   "display_name": "Python [conda env:ecct]",
   "language": "python",
   "name": "conda-env-ecct-py"
  },
  "language_info": {
   "codemirror_mode": {
    "name": "ipython",
    "version": 3
   },
   "file_extension": ".py",
   "mimetype": "text/x-python",
   "name": "python",
   "nbconvert_exporter": "python",
   "pygments_lexer": "ipython3",
   "version": "3.6.6"
  }
 },
 "nbformat": 4,
 "nbformat_minor": 2
}
