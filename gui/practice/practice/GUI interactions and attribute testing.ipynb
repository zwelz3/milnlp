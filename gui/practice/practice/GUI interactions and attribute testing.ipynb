{
 "cells": [
  {
   "cell_type": "code",
   "execution_count": 1,
   "metadata": {},
   "outputs": [],
   "source": [
    "import sys\n",
    "from PySide2.QtUiTools import QUiLoader\n",
    "from PySide2.QtWidgets import QApplication, QHeaderView\n",
    "from PySide2.QtCore import Qt, QFile, QAbstractTableModel\n",
    "from PySide2.QtGui import QFont"
   ]
  },
  {
   "cell_type": "code",
   "execution_count": 2,
   "metadata": {},
   "outputs": [],
   "source": [
    "app = QApplication(sys.argv)\n",
    "\n",
    "file = QFile(\"mainwindow.ui\")\n",
    "file.open(QFile.ReadOnly)\n",
    "loader = QUiLoader()\n",
    "ui = loader.load(file)"
   ]
  },
  {
   "cell_type": "code",
   "execution_count": 3,
   "metadata": {},
   "outputs": [],
   "source": [
    "class BasicTableModel(QAbstractTableModel):\n",
    "    def __init__(self, parent, mylist, header, *args):\n",
    "        QAbstractTableModel.__init__(self, parent, *args)\n",
    "        self.mylist = mylist\n",
    "        self.header = header\n",
    "    def rowCount(self, parent):\n",
    "        return len(self.mylist)\n",
    "    def columnCount(self, parent):\n",
    "        return len(self.mylist[0])\n",
    "    def data(self, index, role):\n",
    "        if not index.isValid():\n",
    "            return None\n",
    "        elif role != Qt.DisplayRole:\n",
    "            return None\n",
    "        return self.mylist[index.row()][index.column()]\n",
    "    def headerData(self, col, orientation, role):\n",
    "        if orientation == Qt.Horizontal and role == Qt.DisplayRole:\n",
    "            return self.header[col]\n",
    "        return None\n",
    "    def sort(self, col, order):\n",
    "        \"\"\"sort table by given column number col\"\"\"\n",
    "        self.emit(SIGNAL(\"layoutAboutToBeChanged()\"))\n",
    "        self.mylist = sorted(self.mylist,\n",
    "            key=operator.itemgetter(col))\n",
    "        if order == Qt.DescendingOrder:\n",
    "            self.mylist.reverse()\n",
    "        self.emit(SIGNAL(\"layoutChanged()\"))\n"
   ]
  },
  {
   "cell_type": "code",
   "execution_count": 4,
   "metadata": {},
   "outputs": [],
   "source": [
    "# Create some rando data\n",
    "header = ['Query ID','Label','RegEx', 'Case Sensitive']\n",
    "\n",
    "# duplicate data to show ability to scroll\n",
    "data = [('SQ1','OSA','[\\W]OSA[\\W]', 'Yes'),\n",
    "        ('SQ2','OMS','[\\W]OMS[\\W]', 'Yes'),\n",
    "        ('CQ1','SQ1 or SQ2','union(SQ1, SQ2)', 'n/a'),\n",
    "        ('SQ3','digital twin','[\\W]digitals?[\\s-]twins?[\\W]', 'No'),\n",
    "        ('CQ2','CQ1 and SQ3','intersection(CQ1, SQ3)', 'n/a'),\n",
    "        ('SQ1','OSA','[\\W]OSA[\\W]', 'Yes'),\n",
    "        ('SQ2','OMS','[\\W]OMS[\\W]', 'Yes'),\n",
    "        ('CQ1','SQ1 or SQ2','union(SQ1, SQ2)', 'n/a'),\n",
    "        ('SQ3','digital twin','[\\W]digitals?[\\s-]twins?[\\W]', 'No'),\n",
    "        ('CQ2','CQ1 and SQ3','intersection(CQ1, SQ3)', 'n/a')]"
   ]
  },
  {
   "cell_type": "code",
   "execution_count": 5,
   "metadata": {},
   "outputs": [
    {
     "data": {
      "text/plain": [
       "' Maybe eventually\\nheader = self.table.horizontalHeader()       \\nheader.setSectionResizeMode(0, QtWidgets.QHeaderView.Stretch)\\nheader.setSectionResizeMode(1, QtWidgets.QHeaderView.ResizeToContents)\\nheader.setSectionResizeMode(2, QtWidgets.QHeaderView.ResizeToContents)\\n'"
      ]
     },
     "execution_count": 5,
     "metadata": {},
     "output_type": "execute_result"
    }
   ],
   "source": [
    "# Create table model\n",
    "table_model = BasicTableModel(None, data, header)\n",
    "\n",
    "\n",
    "# Add information to table view\n",
    "ui.tableView.setModel(table_model)\n",
    "ui.tableView.resizeColumnsToContents()\n",
    "\n",
    "\"\"\" Maybe eventually\n",
    "header = self.table.horizontalHeader()       \n",
    "header.setSectionResizeMode(0, QtWidgets.QHeaderView.Stretch)\n",
    "header.setSectionResizeMode(1, QtWidgets.QHeaderView.ResizeToContents)\n",
    "header.setSectionResizeMode(2, QtWidgets.QHeaderView.ResizeToContents)\n",
    "\"\"\""
   ]
  },
  {
   "cell_type": "code",
   "execution_count": null,
   "metadata": {},
   "outputs": [],
   "source": [
    "# Populate comboboxes with query_list Query IDs"
   ]
  },
  {
   "cell_type": "code",
   "execution_count": 6,
   "metadata": {},
   "outputs": [
    {
     "ename": "SystemExit",
     "evalue": "0",
     "output_type": "error",
     "traceback": [
      "An exception has occurred, use %tb to see the full traceback.\n",
      "\u001b[1;31mSystemExit\u001b[0m\u001b[1;31m:\u001b[0m 0\n"
     ]
    },
    {
     "name": "stderr",
     "output_type": "stream",
     "text": [
      "C:\\Users\\zwelz3\\AppData\\Local\\Continuum\\anaconda3\\envs\\ecct\\lib\\site-packages\\IPython\\core\\interactiveshell.py:2971: UserWarning: To exit: use 'exit', 'quit', or Ctrl-D.\n",
      "  warn(\"To exit: use 'exit', 'quit', or Ctrl-D.\", stacklevel=1)\n"
     ]
    }
   ],
   "source": [
    "ui.show()\n",
    "sys.exit(app.exec_())"
   ]
  },
  {
   "cell_type": "code",
   "execution_count": null,
   "metadata": {},
   "outputs": [],
   "source": []
  },
  {
   "cell_type": "code",
   "execution_count": null,
   "metadata": {},
   "outputs": [],
   "source": []
  },
  {
   "cell_type": "code",
   "execution_count": null,
   "metadata": {},
   "outputs": [],
   "source": []
  }
 ],
 "metadata": {
  "kernelspec": {
   "display_name": "Python [conda env:ecct]",
   "language": "python",
   "name": "conda-env-ecct-py"
  },
  "language_info": {
   "codemirror_mode": {
    "name": "ipython",
    "version": 3
   },
   "file_extension": ".py",
   "mimetype": "text/x-python",
   "name": "python",
   "nbconvert_exporter": "python",
   "pygments_lexer": "ipython3",
   "version": "3.6.6"
  }
 },
 "nbformat": 4,
 "nbformat_minor": 2
}
